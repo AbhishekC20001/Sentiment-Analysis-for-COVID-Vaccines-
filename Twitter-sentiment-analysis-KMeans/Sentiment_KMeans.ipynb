{
 "cells": [
  {
   "cell_type": "code",
   "execution_count": 39,
   "metadata": {
    "colab": {
     "base_uri": "https://localhost:8080/",
     "height": 921
    },
    "colab_type": "code",
    "id": "HjE9sdeF-KvD",
    "outputId": "6d5b808d-1780-42ae-d284-e4edecaf6760"
   },
   "outputs": [
    {
     "name": "stdout",
     "output_type": "stream",
     "text": [
      "Requirement already satisfied: vaderSentiment in c:\\users\\abhishek\\appdata\\local\\packages\\pythonsoftwarefoundation.python.3.8_qbz5n2kfra8p0\\localcache\\local-packages\\python38\\site-packages (3.3.2)\n",
      "Requirement already satisfied: requests in c:\\users\\abhishek\\appdata\\local\\packages\\pythonsoftwarefoundation.python.3.8_qbz5n2kfra8p0\\localcache\\local-packages\\python38\\site-packages (from vaderSentiment) (2.23.0)\n",
      "Requirement already satisfied: idna<3,>=2.5 in c:\\users\\abhishek\\appdata\\local\\packages\\pythonsoftwarefoundation.python.3.8_qbz5n2kfra8p0\\localcache\\local-packages\\python38\\site-packages (from requests->vaderSentiment) (2.9)\n",
      "Requirement already satisfied: urllib3!=1.25.0,!=1.25.1,<1.26,>=1.21.1 in c:\\users\\abhishek\\appdata\\local\\packages\\pythonsoftwarefoundation.python.3.8_qbz5n2kfra8p0\\localcache\\local-packages\\python38\\site-packages (from requests->vaderSentiment) (1.25.9)\n",
      "Requirement already satisfied: certifi>=2017.4.17 in c:\\users\\abhishek\\appdata\\local\\packages\\pythonsoftwarefoundation.python.3.8_qbz5n2kfra8p0\\localcache\\local-packages\\python38\\site-packages (from requests->vaderSentiment) (2020.4.5.1)\n",
      "Requirement already satisfied: chardet<4,>=3.0.2 in c:\\users\\abhishek\\appdata\\local\\packages\\pythonsoftwarefoundation.python.3.8_qbz5n2kfra8p0\\localcache\\local-packages\\python38\\site-packages (from requests->vaderSentiment) (3.0.4)\n",
      "Requirement already satisfied: datashader in c:\\users\\abhishek\\appdata\\local\\packages\\pythonsoftwarefoundation.python.3.8_qbz5n2kfra8p0\\localcache\\local-packages\\python38\\site-packages (0.12.1)\n",
      "Requirement already satisfied: numpy>=1.7 in c:\\users\\abhishek\\appdata\\local\\packages\\pythonsoftwarefoundation.python.3.8_qbz5n2kfra8p0\\localcache\\local-packages\\python38\\site-packages (from datashader) (1.20.2)\n",
      "Requirement already satisfied: pyct>=0.4.4 in c:\\users\\abhishek\\appdata\\local\\packages\\pythonsoftwarefoundation.python.3.8_qbz5n2kfra8p0\\localcache\\local-packages\\python38\\site-packages (from datashader) (0.4.8)\n",
      "Requirement already satisfied: toolz>=0.7.4 in c:\\users\\abhishek\\appdata\\local\\packages\\pythonsoftwarefoundation.python.3.8_qbz5n2kfra8p0\\localcache\\local-packages\\python38\\site-packages (from datashader) (0.11.1)\n",
      "Requirement already satisfied: numba!=0.49.*,!=0.50.*,>=0.37.0 in c:\\users\\abhishek\\appdata\\local\\packages\\pythonsoftwarefoundation.python.3.8_qbz5n2kfra8p0\\localcache\\local-packages\\python38\\site-packages (from datashader) (0.53.1)\n",
      "Requirement already satisfied: datashape>=0.5.1 in c:\\users\\abhishek\\appdata\\local\\packages\\pythonsoftwarefoundation.python.3.8_qbz5n2kfra8p0\\localcache\\local-packages\\python38\\site-packages (from datashader) (0.5.2)\n",
      "Requirement already satisfied: colorcet>=0.9.0 in c:\\users\\abhishek\\appdata\\local\\packages\\pythonsoftwarefoundation.python.3.8_qbz5n2kfra8p0\\localcache\\local-packages\\python38\\site-packages (from datashader) (2.0.6)\n",
      "Requirement already satisfied: dask[complete]>=0.18.0 in c:\\users\\abhishek\\appdata\\local\\packages\\pythonsoftwarefoundation.python.3.8_qbz5n2kfra8p0\\localcache\\local-packages\\python38\\site-packages (from datashader) (2021.4.0)\n",
      "Requirement already satisfied: bokeh in c:\\users\\abhishek\\appdata\\local\\packages\\pythonsoftwarefoundation.python.3.8_qbz5n2kfra8p0\\localcache\\local-packages\\python38\\site-packages (from datashader) (2.3.0)\n",
      "Requirement already satisfied: param>=1.6.0 in c:\\users\\abhishek\\appdata\\local\\packages\\pythonsoftwarefoundation.python.3.8_qbz5n2kfra8p0\\localcache\\local-packages\\python38\\site-packages (from datashader) (1.10.1)\n",
      "Requirement already satisfied: pandas>=0.24.1 in c:\\users\\abhishek\\appdata\\local\\packages\\pythonsoftwarefoundation.python.3.8_qbz5n2kfra8p0\\localcache\\local-packages\\python38\\site-packages (from datashader) (1.2.3)\n",
      "Requirement already satisfied: xarray>=0.9.6 in c:\\users\\abhishek\\appdata\\local\\packages\\pythonsoftwarefoundation.python.3.8_qbz5n2kfra8p0\\localcache\\local-packages\\python38\\site-packages (from datashader) (0.17.0)\n",
      "Requirement already satisfied: scipy in c:\\users\\abhishek\\appdata\\local\\packages\\pythonsoftwarefoundation.python.3.8_qbz5n2kfra8p0\\localcache\\local-packages\\python38\\site-packages (from datashader) (1.4.1)\n",
      "Requirement already satisfied: pillow>=3.1.1 in c:\\users\\abhishek\\appdata\\local\\packages\\pythonsoftwarefoundation.python.3.8_qbz5n2kfra8p0\\localcache\\local-packages\\python38\\site-packages (from datashader) (8.0.0)\n",
      "Requirement already satisfied: fsspec>=0.6.0 in c:\\users\\abhishek\\appdata\\local\\packages\\pythonsoftwarefoundation.python.3.8_qbz5n2kfra8p0\\localcache\\local-packages\\python38\\site-packages (from dask[complete]>=0.18.0->datashader) (0.9.0)\n",
      "Requirement already satisfied: cloudpickle>=1.1.1 in c:\\users\\abhishek\\appdata\\local\\packages\\pythonsoftwarefoundation.python.3.8_qbz5n2kfra8p0\\localcache\\local-packages\\python38\\site-packages (from dask[complete]>=0.18.0->datashader) (1.6.0)\n",
      "Requirement already satisfied: partd>=0.3.10 in c:\\users\\abhishek\\appdata\\local\\packages\\pythonsoftwarefoundation.python.3.8_qbz5n2kfra8p0\\localcache\\local-packages\\python38\\site-packages (from dask[complete]>=0.18.0->datashader) (1.1.0)\n",
      "Requirement already satisfied: pyyaml in c:\\users\\abhishek\\appdata\\local\\packages\\pythonsoftwarefoundation.python.3.8_qbz5n2kfra8p0\\localcache\\local-packages\\python38\\site-packages (from dask[complete]>=0.18.0->datashader) (5.4.1)\n",
      "Requirement already satisfied: distributed>=2021.03.0 in c:\\users\\abhishek\\appdata\\local\\packages\\pythonsoftwarefoundation.python.3.8_qbz5n2kfra8p0\\localcache\\local-packages\\python38\\site-packages (from dask[complete]>=0.18.0->datashader) (2021.4.0)\n",
      "Requirement already satisfied: packaging>=16.8 in c:\\users\\abhishek\\appdata\\local\\packages\\pythonsoftwarefoundation.python.3.8_qbz5n2kfra8p0\\localcache\\local-packages\\python38\\site-packages (from bokeh->datashader) (20.3)\n",
      "Requirement already satisfied: typing-extensions>=3.7.4 in c:\\users\\abhishek\\appdata\\local\\packages\\pythonsoftwarefoundation.python.3.8_qbz5n2kfra8p0\\localcache\\local-packages\\python38\\site-packages (from bokeh->datashader) (3.7.4.3)\n",
      "Requirement already satisfied: python-dateutil>=2.1 in c:\\users\\abhishek\\appdata\\local\\packages\\pythonsoftwarefoundation.python.3.8_qbz5n2kfra8p0\\localcache\\local-packages\\python38\\site-packages (from bokeh->datashader) (2.8.1)\n",
      "Requirement already satisfied: Jinja2>=2.7 in c:\\users\\abhishek\\appdata\\local\\packages\\pythonsoftwarefoundation.python.3.8_qbz5n2kfra8p0\\localcache\\local-packages\\python38\\site-packages (from bokeh->datashader) (2.11.2)\n",
      "Requirement already satisfied: tornado>=5.1 in c:\\users\\abhishek\\appdata\\local\\packages\\pythonsoftwarefoundation.python.3.8_qbz5n2kfra8p0\\localcache\\local-packages\\python38\\site-packages (from bokeh->datashader) (6.0.4)\n",
      "Requirement already satisfied: multipledispatch>=0.4.7 in c:\\users\\abhishek\\appdata\\local\\packages\\pythonsoftwarefoundation.python.3.8_qbz5n2kfra8p0\\localcache\\local-packages\\python38\\site-packages (from datashape>=0.5.1->datashader) (0.6.0)\n",
      "Requirement already satisfied: setuptools in c:\\program files\\windowsapps\\pythonsoftwarefoundation.python.3.8_3.8.2288.0_x64__qbz5n2kfra8p0\\lib\\site-packages (from distributed>=2021.03.0->dask[complete]>=0.18.0->datashader) (49.2.1)\n",
      "Requirement already satisfied: msgpack>=0.6.0 in c:\\users\\abhishek\\appdata\\local\\packages\\pythonsoftwarefoundation.python.3.8_qbz5n2kfra8p0\\localcache\\local-packages\\python38\\site-packages (from distributed>=2021.03.0->dask[complete]>=0.18.0->datashader) (1.0.2)\n",
      "Requirement already satisfied: click>=6.6 in c:\\users\\abhishek\\appdata\\local\\packages\\pythonsoftwarefoundation.python.3.8_qbz5n2kfra8p0\\localcache\\local-packages\\python38\\site-packages (from distributed>=2021.03.0->dask[complete]>=0.18.0->datashader) (7.1.1)\n",
      "Requirement already satisfied: zict>=0.1.3 in c:\\users\\abhishek\\appdata\\local\\packages\\pythonsoftwarefoundation.python.3.8_qbz5n2kfra8p0\\localcache\\local-packages\\python38\\site-packages (from distributed>=2021.03.0->dask[complete]>=0.18.0->datashader) (2.0.0)\n",
      "Requirement already satisfied: sortedcontainers!=2.0.0,!=2.0.1 in c:\\users\\abhishek\\appdata\\local\\packages\\pythonsoftwarefoundation.python.3.8_qbz5n2kfra8p0\\localcache\\local-packages\\python38\\site-packages (from distributed>=2021.03.0->dask[complete]>=0.18.0->datashader) (2.3.0)\n",
      "Requirement already satisfied: psutil>=5.0 in c:\\users\\abhishek\\appdata\\local\\packages\\pythonsoftwarefoundation.python.3.8_qbz5n2kfra8p0\\localcache\\local-packages\\python38\\site-packages (from distributed>=2021.03.0->dask[complete]>=0.18.0->datashader) (5.8.0)\n",
      "Requirement already satisfied: tblib>=1.6.0 in c:\\users\\abhishek\\appdata\\local\\packages\\pythonsoftwarefoundation.python.3.8_qbz5n2kfra8p0\\localcache\\local-packages\\python38\\site-packages (from distributed>=2021.03.0->dask[complete]>=0.18.0->datashader) (1.7.0)\n",
      "Requirement already satisfied: MarkupSafe>=0.23 in c:\\users\\abhishek\\appdata\\local\\packages\\pythonsoftwarefoundation.python.3.8_qbz5n2kfra8p0\\localcache\\local-packages\\python38\\site-packages (from Jinja2>=2.7->bokeh->datashader) (1.1.1)\n",
      "Requirement already satisfied: six in c:\\users\\abhishek\\appdata\\local\\packages\\pythonsoftwarefoundation.python.3.8_qbz5n2kfra8p0\\localcache\\local-packages\\python38\\site-packages (from multipledispatch>=0.4.7->datashape>=0.5.1->datashader) (1.14.0)\n",
      "Requirement already satisfied: llvmlite<0.37,>=0.36.0rc1 in c:\\users\\abhishek\\appdata\\local\\packages\\pythonsoftwarefoundation.python.3.8_qbz5n2kfra8p0\\localcache\\local-packages\\python38\\site-packages (from numba!=0.49.*,!=0.50.*,>=0.37.0->datashader) (0.36.0)\n",
      "Requirement already satisfied: pyparsing>=2.0.2 in c:\\users\\abhishek\\appdata\\local\\packages\\pythonsoftwarefoundation.python.3.8_qbz5n2kfra8p0\\localcache\\local-packages\\python38\\site-packages (from packaging>=16.8->bokeh->datashader) (2.4.7)\n",
      "Requirement already satisfied: pytz>=2017.3 in c:\\users\\abhishek\\appdata\\local\\packages\\pythonsoftwarefoundation.python.3.8_qbz5n2kfra8p0\\localcache\\local-packages\\python38\\site-packages (from pandas>=0.24.1->datashader) (2020.1)\n",
      "Requirement already satisfied: locket in c:\\users\\abhishek\\appdata\\local\\packages\\pythonsoftwarefoundation.python.3.8_qbz5n2kfra8p0\\localcache\\local-packages\\python38\\site-packages (from partd>=0.3.10->dask[complete]>=0.18.0->datashader) (0.2.1)\n",
      "Requirement already satisfied: heapdict in c:\\users\\abhishek\\appdata\\local\\packages\\pythonsoftwarefoundation.python.3.8_qbz5n2kfra8p0\\localcache\\local-packages\\python38\\site-packages (from zict>=0.1.3->distributed>=2021.03.0->dask[complete]>=0.18.0->datashader) (1.0.1)\n"
     ]
    }
   ],
   "source": [
    "# Import all required libraries\n",
    "\n",
    "import nltk\n",
    "import numpy as np\n",
    "import re\n",
    "import pandas as pd \n",
    "import pylab as pl\n",
    "import matplotlib.pyplot as plt\n",
    "\n",
    "from nltk.tokenize import WordPunctTokenizer\n",
    "#from bs4 import BeautifulSoup\n",
    "from wordcloud import WordCloud\n",
    "from sklearn.feature_extraction.text import TfidfVectorizer\n",
    "from sklearn.decomposition import PCA, TruncatedSVD\n",
    "\n",
    "from sklearn import metrics\n",
    "from mpl_toolkits.mplot3d import Axes3D\n",
    "\n",
    "from matplotlib import pyplot\n",
    "\n",
    "#plt.style.use('fivethirtyeight')\n",
    "%matplotlib inline\n",
    "%config InlineBackend.figure_format = 'retina'\n",
    "\n",
    "!pip install vaderSentiment\n",
    "from vaderSentiment.vaderSentiment import SentimentIntensityAnalyzer\n",
    "\n",
    "analyser = SentimentIntensityAnalyzer()\n",
    "\n",
    "!pip install datashader\n",
    "import datashader as ds\n",
    "import datashader.transfer_functions as tf\n"
   ]
  },
  {
   "cell_type": "code",
   "execution_count": 40,
   "metadata": {
    "colab": {
     "base_uri": "https://localhost:8080/",
     "height": 34
    },
    "colab_type": "code",
    "id": "e2s26pEC_eEH",
    "outputId": "7ccc2af1-7ac6-44c4-f0ab-46be7592d92f"
   },
   "outputs": [
    {
     "name": "stdout",
     "output_type": "stream",
     "text": [
      "                                              Tweets                   id  \\\n",
      "0  @digvijaay46 @JoatAyushi @ANI India is plannin...  1379489101976494081   \n",
      "1  Very nicely explained if you really want to kn...  1379488295495688192   \n",
      "2  RT @KiranKS: India is planning to double per m...  1379487728807501825   \n",
      "3  India currently produces #Covishield (a local ...  1379487049863036931   \n",
      "4  RT @KiranKS: India is planning to double per m...  1379485612151992321   \n",
      "5  RT @gauripokhariyal: When Covid19 vaccination ...  1379485118444630022   \n",
      "6  @virsanghvi Mr Sanghvi has lot on his plate fr...  1379484897149034498   \n",
      "7  Oxford-AstraZeneca COVID-19 vaccine: 'Review o...  1379483898371993600   \n",
      "8  @hisaurabhshah Large portion, a very large por...  1379482749774438400   \n",
      "9  RT @KiranKS: India is planning to double per m...  1379482584745304074   \n",
      "\n",
      "   len                date               source  likes  retweets  \n",
      "0  287 2021-04-06 17:40:06  Twitter for Android      0         0  \n",
      "1   95 2021-04-06 17:36:53  Twitter for Android      3         0  \n",
      "2  140 2021-04-06 17:34:38   Twitter for iPhone      0        32  \n",
      "3  220 2021-04-06 17:31:56      Twitter Web App      0         0  \n",
      "4  140 2021-04-06 17:26:14  Twitter for Android      0        32  \n",
      "5  139 2021-04-06 17:24:16  Twitter for Android      0         6  \n",
      "6  285 2021-04-06 17:23:23  Twitter for Android      0         0  \n",
      "7  267 2021-04-06 17:19:25      Twitter Web App      0         0  \n",
      "8  196 2021-04-06 17:14:51            TweetDeck      3         0  \n",
      "9  140 2021-04-06 17:14:12  Twitter for Android      0        32  \n"
     ]
    }
   ],
   "source": [
    "from tweepy import API\n",
    "from tweepy import Cursor\n",
    "from tweepy.streaming import StreamListener\n",
    "from tweepy import OAuthHandler\n",
    "from tweepy import Stream\n",
    "\n",
    "\n",
    "import tweepy\n",
    "\n",
    "\n",
    "import twitter_credentials\n",
    "import numpy as np\n",
    "import pandas as pd\n",
    "\n",
    "\n",
    "class TwitterClient():\n",
    "    def __init__(self, twitter_user=None):\n",
    "        self.auth = TwitterAuthenticator().authenticate_twitter_app()\n",
    "        self.twitter_client = API(self.auth)\n",
    "\n",
    "        self.twitter_user = twitter_user\n",
    "\n",
    "    def get_twitter_client_api(self):\n",
    "        return self.twitter_client\n",
    "\n",
    "    \n",
    "class TwitterAuthenticator():\n",
    "\n",
    "    def authenticate_twitter_app(self):\n",
    "        auth = OAuthHandler(twitter_credentials.CONSUMER_KEY, twitter_credentials.CONSUMER_SECRET)\n",
    "        auth.set_access_token(twitter_credentials.ACCESS_TOKEN, twitter_credentials.ACCESS_TOKEN_SECRET)\n",
    "        return auth\n",
    "\n",
    "\n",
    "class TwitterStreamer():\n",
    "\n",
    "    def __init__(self):\n",
    "        self.twitter_autenticator = TwitterAuthenticator()\n",
    "\n",
    "    def stream_tweets(self, hash_tag_list):\n",
    "\n",
    "        listener = TwitterListener()\n",
    "        auth = self.twitter_autenticator.authenticate_twitter_app()\n",
    "        stream = Stream(auth, listener)\n",
    "\n",
    "\n",
    "        stream.filter(track=hash_tag_list)\n",
    "\n",
    "class TweetAnalyzer():\n",
    "\n",
    "    def tweets_to_data_frame(self, tweets):\n",
    "        #for tweet in tweets:\n",
    "            #print(tweet.full_text)\n",
    "\n",
    "        df = pd.DataFrame(data=[tweet.full_text for tweet in tweets], columns=['Tweets'])\n",
    "\n",
    "        df['id'] = np.array([tweet.id for tweet in tweets])\n",
    "        df['len'] = np.array([len(tweet.full_text) for tweet in tweets])\n",
    "        df['date'] = np.array([tweet.created_at for tweet in tweets])\n",
    "        df['source'] = np.array([tweet.source for tweet in tweets])\n",
    "        df['likes'] = np.array([tweet.favorite_count for tweet in tweets])\n",
    "        df['retweets'] = np.array([tweet.retweet_count for tweet in tweets])\n",
    "\n",
    "        return df\n",
    "\n",
    "if __name__ == '__main__':\n",
    "\n",
    "    twitter_client = TwitterClient()\n",
    "    tweet_analyzer = TweetAnalyzer()\n",
    "\n",
    "    api = twitter_client.get_twitter_client_api()\n",
    "\n",
    "    tweets = tweepy.Cursor(api.search, q=['Covishield','Covaxin'], lang=\"en\",\n",
    "                           tweet_mode='extended').items(200)\n",
    "    list_tweets = [tweet for tweet in tweets]\n",
    "\n",
    "    #print(dir(tweets[0]))\n",
    "    #print(tweets[0].retweet_count)\n",
    "\n",
    "    df = tweet_analyzer.tweets_to_data_frame(list_tweets)\n",
    "\n",
    "    print(df.head(10))\n",
    "    #print(df['Tweets'])\n"
   ]
  },
  {
   "cell_type": "code",
   "execution_count": 41,
   "metadata": {
    "colab": {
     "base_uri": "https://localhost:8080/",
     "height": 111
    },
    "colab_type": "code",
    "id": "fvnZ3vZC-Kvo",
    "outputId": "331279df-1dcf-491a-d7d5-cec3dfb4abae"
   },
   "outputs": [
    {
     "data": {
      "text/html": [
       "<div>\n",
       "<style scoped>\n",
       "    .dataframe tbody tr th:only-of-type {\n",
       "        vertical-align: middle;\n",
       "    }\n",
       "\n",
       "    .dataframe tbody tr th {\n",
       "        vertical-align: top;\n",
       "    }\n",
       "\n",
       "    .dataframe thead th {\n",
       "        text-align: right;\n",
       "    }\n",
       "</style>\n",
       "<table border=\"1\" class=\"dataframe\">\n",
       "  <thead>\n",
       "    <tr style=\"text-align: right;\">\n",
       "      <th></th>\n",
       "      <th>Tweets</th>\n",
       "      <th>id</th>\n",
       "      <th>len</th>\n",
       "      <th>date</th>\n",
       "      <th>source</th>\n",
       "      <th>likes</th>\n",
       "      <th>retweets</th>\n",
       "    </tr>\n",
       "  </thead>\n",
       "  <tbody>\n",
       "    <tr>\n",
       "      <th>0</th>\n",
       "      <td>@digvijaay46 @JoatAyushi @ANI India is plannin...</td>\n",
       "      <td>1379489101976494081</td>\n",
       "      <td>287</td>\n",
       "      <td>2021-04-06 17:40:06</td>\n",
       "      <td>Twitter for Android</td>\n",
       "      <td>0</td>\n",
       "      <td>0</td>\n",
       "    </tr>\n",
       "    <tr>\n",
       "      <th>1</th>\n",
       "      <td>Very nicely explained if you really want to kn...</td>\n",
       "      <td>1379488295495688192</td>\n",
       "      <td>95</td>\n",
       "      <td>2021-04-06 17:36:53</td>\n",
       "      <td>Twitter for Android</td>\n",
       "      <td>3</td>\n",
       "      <td>0</td>\n",
       "    </tr>\n",
       "  </tbody>\n",
       "</table>\n",
       "</div>"
      ],
      "text/plain": [
       "                                              Tweets                   id  \\\n",
       "0  @digvijaay46 @JoatAyushi @ANI India is plannin...  1379489101976494081   \n",
       "1  Very nicely explained if you really want to kn...  1379488295495688192   \n",
       "\n",
       "   len                date               source  likes  retweets  \n",
       "0  287 2021-04-06 17:40:06  Twitter for Android      0         0  \n",
       "1   95 2021-04-06 17:36:53  Twitter for Android      3         0  "
      ]
     },
     "execution_count": 41,
     "metadata": {},
     "output_type": "execute_result"
    }
   ],
   "source": [
    "df.head(2)"
   ]
  },
  {
   "cell_type": "code",
   "execution_count": 42,
   "metadata": {
    "colab": {
     "base_uri": "https://localhost:8080/",
     "height": 68
    },
    "colab_type": "code",
    "id": "ucNN0lVU-Kwa",
    "outputId": "41486990-45c9-42c1-f433-f54e6dbaa36a"
   },
   "outputs": [
    {
     "data": {
      "text/plain": [
       "1379464893187825667    1\n",
       "1379476847486935040    1\n",
       "Name: id, dtype: int64"
      ]
     },
     "execution_count": 42,
     "metadata": {},
     "output_type": "execute_result"
    }
   ],
   "source": [
    "# Number of users with multiple tweets\n",
    "\n",
    "df[\"id\"].value_counts(ascending=False).head(2)"
   ]
  },
  {
   "cell_type": "code",
   "execution_count": 43,
   "metadata": {
    "colab": {},
    "colab_type": "code",
    "id": "3ABNr5IJ_3jX"
   },
   "outputs": [],
   "source": [
    "def remove_pattern(input_txt, pattern):\n",
    "    r = re.findall(pattern, input_txt)\n",
    "    for i in r:\n",
    "        input_txt = re.sub(i, '', input_txt)\n",
    "        \n",
    "    return input_txt "
   ]
  },
  {
   "cell_type": "code",
   "execution_count": 44,
   "metadata": {
    "colab": {},
    "colab_type": "code",
    "id": "jklbyRaP_7On"
   },
   "outputs": [],
   "source": [
    "df['Clean_text'] = np.vectorize(remove_pattern)(df['Tweets'], \"@[\\w]*\")"
   ]
  },
  {
   "cell_type": "code",
   "execution_count": 45,
   "metadata": {
    "colab": {},
    "colab_type": "code",
    "id": "TDrT33zO_9XA"
   },
   "outputs": [
    {
     "name": "stderr",
     "output_type": "stream",
     "text": [
      "<ipython-input-45-46be3fd0461e>:2: FutureWarning: The default value of regex will change from True to False in a future version.\n",
      "  df['Clean_text'] = df['Clean_text'].str.replace(\"[^a-zA-Z#]\", \" \")\n"
     ]
    }
   ],
   "source": [
    "# remove special characters, numbers, punctuations\n",
    "df['Clean_text'] = df['Clean_text'].str.replace(\"[^a-zA-Z#]\", \" \")"
   ]
  },
  {
   "cell_type": "code",
   "execution_count": 46,
   "metadata": {
    "colab": {},
    "colab_type": "code",
    "id": "nvSMU9CH__eB"
   },
   "outputs": [],
   "source": [
    "df['Clean_text'] = df['Clean_text'].apply(lambda x: ' '.join([w for w in x.split() if len(w)>3]))"
   ]
  },
  {
   "cell_type": "code",
   "execution_count": 47,
   "metadata": {
    "colab": {},
    "colab_type": "code",
    "id": "gzhEpYGzABgM"
   },
   "outputs": [],
   "source": [
    "tokenized_tweet = df['Clean_text'].apply(lambda x: x.split())"
   ]
  },
  {
   "cell_type": "code",
   "execution_count": 48,
   "metadata": {
    "colab": {
     "base_uri": "https://localhost:8080/",
     "height": 119
    },
    "colab_type": "code",
    "id": "jHF3-R-oADgr",
    "outputId": "4742c1d7-71ac-4067-b1bc-b59db9d1b7c6"
   },
   "outputs": [
    {
     "data": {
      "text/plain": [
       "0    [india, plan, doubl, month, vaccin, product, r...\n",
       "1    [veri, nice, explain, realli, want, know, cova...\n",
       "2    [india, plan, doubl, month, vaccin, product, r...\n",
       "3    [india, current, produc, #covishield, local, v...\n",
       "4    [india, plan, doubl, month, vaccin, product, r...\n",
       "Name: Clean_text, dtype: object"
      ]
     },
     "execution_count": 48,
     "metadata": {},
     "output_type": "execute_result"
    }
   ],
   "source": [
    "from nltk.stem.porter import *\n",
    "stemmer = PorterStemmer()\n",
    "\n",
    "tokenized_tweet = tokenized_tweet.apply(lambda x: [stemmer.stem(i) for i in x]) # stemming\n",
    "tokenized_tweet.head()"
   ]
  },
  {
   "cell_type": "code",
   "execution_count": 49,
   "metadata": {
    "colab": {},
    "colab_type": "code",
    "id": "J5NOvMNVAFxX"
   },
   "outputs": [],
   "source": [
    "for i in range(len(tokenized_tweet)):\n",
    "    tokenized_tweet[i] = ' '.join(tokenized_tweet[i])\n",
    "\n",
    "df['Clean_text'] = tokenized_tweet"
   ]
  },
  {
   "cell_type": "code",
   "execution_count": 50,
   "metadata": {
    "colab": {
     "base_uri": "https://localhost:8080/",
     "height": 1969
    },
    "colab_type": "code",
    "id": "8-9xLENb-Kx5",
    "outputId": "36a8e20b-2501-4624-ce24-ccb57f2ebabc"
   },
   "outputs": [
    {
     "data": {
      "text/html": [
       "<div>\n",
       "<style scoped>\n",
       "    .dataframe tbody tr th:only-of-type {\n",
       "        vertical-align: middle;\n",
       "    }\n",
       "\n",
       "    .dataframe tbody tr th {\n",
       "        vertical-align: top;\n",
       "    }\n",
       "\n",
       "    .dataframe thead th {\n",
       "        text-align: right;\n",
       "    }\n",
       "</style>\n",
       "<table border=\"1\" class=\"dataframe\">\n",
       "  <thead>\n",
       "    <tr style=\"text-align: right;\">\n",
       "      <th></th>\n",
       "      <th>Tweets</th>\n",
       "      <th>Clean_text</th>\n",
       "    </tr>\n",
       "  </thead>\n",
       "  <tbody>\n",
       "    <tr>\n",
       "      <th>0</th>\n",
       "      <td>@digvijaay46 @JoatAyushi @ANI India is plannin...</td>\n",
       "      <td>india plan doubl month vaccin product right pu...</td>\n",
       "    </tr>\n",
       "    <tr>\n",
       "      <th>1</th>\n",
       "      <td>Very nicely explained if you really want to kn...</td>\n",
       "      <td>veri nice explain realli want know covaxin cov...</td>\n",
       "    </tr>\n",
       "    <tr>\n",
       "      <th>2</th>\n",
       "      <td>RT @KiranKS: India is planning to double per m...</td>\n",
       "      <td>india plan doubl month vaccin product right pu...</td>\n",
       "    </tr>\n",
       "    <tr>\n",
       "      <th>3</th>\n",
       "      <td>India currently produces #Covishield (a local ...</td>\n",
       "      <td>india current produc #covishield local version...</td>\n",
       "    </tr>\n",
       "    <tr>\n",
       "      <th>4</th>\n",
       "      <td>RT @KiranKS: India is planning to double per m...</td>\n",
       "      <td>india plan doubl month vaccin product right pu...</td>\n",
       "    </tr>\n",
       "    <tr>\n",
       "      <th>...</th>\n",
       "      <td>...</td>\n",
       "      <td>...</td>\n",
       "    </tr>\n",
       "    <tr>\n",
       "      <th>195</th>\n",
       "      <td>@nightin32627875 @Liliana25099923 @StrohJulian...</td>\n",
       "      <td>correct mostli covishield there shortag covaxin</td>\n",
       "    </tr>\n",
       "    <tr>\n",
       "      <th>196</th>\n",
       "      <td>@Vickypats66 @SidShirole @sudhirmehtapune @apa...</td>\n",
       "      <td>actual pune covaxin avail think everywher covi...</td>\n",
       "    </tr>\n",
       "    <tr>\n",
       "      <th>197</th>\n",
       "      <td>Covaxin is not available anywhere in Rajnandga...</td>\n",
       "      <td>covaxin avail anywher rajnandgaon chhattisgarh...</td>\n",
       "    </tr>\n",
       "    <tr>\n",
       "      <th>198</th>\n",
       "      <td>RT @Raghu610: Covishield efficacy 70% 👍👍\\nCova...</td>\n",
       "      <td>covishield efficaci covaxin efficaci</td>\n",
       "    </tr>\n",
       "    <tr>\n",
       "      <th>199</th>\n",
       "      <td>@bsindia Covaxin or Covishield</td>\n",
       "      <td>covaxin covishield</td>\n",
       "    </tr>\n",
       "  </tbody>\n",
       "</table>\n",
       "<p>200 rows × 2 columns</p>\n",
       "</div>"
      ],
      "text/plain": [
       "                                                Tweets  \\\n",
       "0    @digvijaay46 @JoatAyushi @ANI India is plannin...   \n",
       "1    Very nicely explained if you really want to kn...   \n",
       "2    RT @KiranKS: India is planning to double per m...   \n",
       "3    India currently produces #Covishield (a local ...   \n",
       "4    RT @KiranKS: India is planning to double per m...   \n",
       "..                                                 ...   \n",
       "195  @nightin32627875 @Liliana25099923 @StrohJulian...   \n",
       "196  @Vickypats66 @SidShirole @sudhirmehtapune @apa...   \n",
       "197  Covaxin is not available anywhere in Rajnandga...   \n",
       "198  RT @Raghu610: Covishield efficacy 70% 👍👍\\nCova...   \n",
       "199                     @bsindia Covaxin or Covishield   \n",
       "\n",
       "                                            Clean_text  \n",
       "0    india plan doubl month vaccin product right pu...  \n",
       "1    veri nice explain realli want know covaxin cov...  \n",
       "2    india plan doubl month vaccin product right pu...  \n",
       "3    india current produc #covishield local version...  \n",
       "4    india plan doubl month vaccin product right pu...  \n",
       "..                                                 ...  \n",
       "195    correct mostli covishield there shortag covaxin  \n",
       "196  actual pune covaxin avail think everywher covi...  \n",
       "197  covaxin avail anywher rajnandgaon chhattisgarh...  \n",
       "198               covishield efficaci covaxin efficaci  \n",
       "199                                 covaxin covishield  \n",
       "\n",
       "[200 rows x 2 columns]"
      ]
     },
     "execution_count": 50,
     "metadata": {},
     "output_type": "execute_result"
    }
   ],
   "source": [
    "df.loc[:,('Tweets','Clean_text')]"
   ]
  },
  {
   "cell_type": "code",
   "execution_count": 51,
   "metadata": {
    "colab": {
     "base_uri": "https://localhost:8080/",
     "height": 49
    },
    "colab_type": "code",
    "id": "tWPGvlW4Y8Vp",
    "outputId": "073d89de-59c7-4d9f-bc4a-e6d8de192a3c"
   },
   "outputs": [
    {
     "data": {
      "text/html": [
       "<div>\n",
       "<style scoped>\n",
       "    .dataframe tbody tr th:only-of-type {\n",
       "        vertical-align: middle;\n",
       "    }\n",
       "\n",
       "    .dataframe tbody tr th {\n",
       "        vertical-align: top;\n",
       "    }\n",
       "\n",
       "    .dataframe thead th {\n",
       "        text-align: right;\n",
       "    }\n",
       "</style>\n",
       "<table border=\"1\" class=\"dataframe\">\n",
       "  <thead>\n",
       "    <tr style=\"text-align: right;\">\n",
       "      <th></th>\n",
       "      <th>Tweets</th>\n",
       "      <th>id</th>\n",
       "      <th>len</th>\n",
       "      <th>date</th>\n",
       "      <th>source</th>\n",
       "      <th>likes</th>\n",
       "      <th>retweets</th>\n",
       "      <th>Clean_text</th>\n",
       "    </tr>\n",
       "  </thead>\n",
       "  <tbody>\n",
       "  </tbody>\n",
       "</table>\n",
       "</div>"
      ],
      "text/plain": [
       "Empty DataFrame\n",
       "Columns: [Tweets, id, len, date, source, likes, retweets, Clean_text]\n",
       "Index: []"
      ]
     },
     "execution_count": 51,
     "metadata": {},
     "output_type": "execute_result"
    }
   ],
   "source": [
    "df[df.Tweets.isnull()]\n"
   ]
  },
  {
   "cell_type": "code",
   "execution_count": 52,
   "metadata": {
    "colab": {
     "base_uri": "https://localhost:8080/",
     "height": 49
    },
    "colab_type": "code",
    "id": "KPPjE9kq-KyD",
    "outputId": "33056769-8736-48c6-b83e-408ff6c7ef24"
   },
   "outputs": [
    {
     "data": {
      "text/html": [
       "<div>\n",
       "<style scoped>\n",
       "    .dataframe tbody tr th:only-of-type {\n",
       "        vertical-align: middle;\n",
       "    }\n",
       "\n",
       "    .dataframe tbody tr th {\n",
       "        vertical-align: top;\n",
       "    }\n",
       "\n",
       "    .dataframe thead th {\n",
       "        text-align: right;\n",
       "    }\n",
       "</style>\n",
       "<table border=\"1\" class=\"dataframe\">\n",
       "  <thead>\n",
       "    <tr style=\"text-align: right;\">\n",
       "      <th></th>\n",
       "      <th>Tweets</th>\n",
       "      <th>id</th>\n",
       "      <th>len</th>\n",
       "      <th>date</th>\n",
       "      <th>source</th>\n",
       "      <th>likes</th>\n",
       "      <th>retweets</th>\n",
       "      <th>Clean_text</th>\n",
       "    </tr>\n",
       "  </thead>\n",
       "  <tbody>\n",
       "  </tbody>\n",
       "</table>\n",
       "</div>"
      ],
      "text/plain": [
       "Empty DataFrame\n",
       "Columns: [Tweets, id, len, date, source, likes, retweets, Clean_text]\n",
       "Index: []"
      ]
     },
     "execution_count": 52,
     "metadata": {},
     "output_type": "execute_result"
    }
   ],
   "source": [
    "df[df.Clean_text.isnull()]"
   ]
  },
  {
   "cell_type": "code",
   "execution_count": 53,
   "metadata": {
    "colab": {
     "base_uri": "https://localhost:8080/",
     "height": 68
    },
    "colab_type": "code",
    "id": "iJT21dCr6e9p",
    "outputId": "b412f174-b70b-4bc3-ecc4-818e45353776"
   },
   "outputs": [
    {
     "name": "stdout",
     "output_type": "stream",
     "text": [
      "128\n",
      "140\n",
      "200\n"
     ]
    }
   ],
   "source": [
    "# Number of unique tweets\n",
    "unique_clean_text = df.Clean_text.unique()\n",
    "unique_full_text = df.Tweets.unique()\n",
    "print(len(unique_clean_text))\n",
    "print(len(unique_full_text))\n",
    "print(len(df))"
   ]
  },
  {
   "cell_type": "code",
   "execution_count": 54,
   "metadata": {
    "colab": {},
    "colab_type": "code",
    "id": "L_-YLlvh6ITs"
   },
   "outputs": [],
   "source": [
    "df.drop_duplicates(subset=['Clean_text'], keep = 'first',inplace= True)"
   ]
  },
  {
   "cell_type": "code",
   "execution_count": 55,
   "metadata": {
    "colab": {},
    "colab_type": "code",
    "id": "gtaKG-OL6TvW"
   },
   "outputs": [],
   "source": [
    "df.reset_index(drop=True,inplace=True)"
   ]
  },
  {
   "cell_type": "code",
   "execution_count": 56,
   "metadata": {
    "colab": {
     "base_uri": "https://localhost:8080/",
     "height": 289
    },
    "colab_type": "code",
    "id": "0b5vpshJ-KyN",
    "outputId": "0219d3c4-073e-40b8-d81d-8b76f5907645"
   },
   "outputs": [
    {
     "data": {
      "text/html": [
       "<div>\n",
       "<style scoped>\n",
       "    .dataframe tbody tr th:only-of-type {\n",
       "        vertical-align: middle;\n",
       "    }\n",
       "\n",
       "    .dataframe tbody tr th {\n",
       "        vertical-align: top;\n",
       "    }\n",
       "\n",
       "    .dataframe thead th {\n",
       "        text-align: right;\n",
       "    }\n",
       "</style>\n",
       "<table border=\"1\" class=\"dataframe\">\n",
       "  <thead>\n",
       "    <tr style=\"text-align: right;\">\n",
       "      <th></th>\n",
       "      <th>Tweets</th>\n",
       "      <th>id</th>\n",
       "      <th>len</th>\n",
       "      <th>date</th>\n",
       "      <th>source</th>\n",
       "      <th>likes</th>\n",
       "      <th>retweets</th>\n",
       "      <th>Clean_text</th>\n",
       "      <th>Clean_text_length</th>\n",
       "    </tr>\n",
       "  </thead>\n",
       "  <tbody>\n",
       "    <tr>\n",
       "      <th>0</th>\n",
       "      <td>@digvijaay46 @JoatAyushi @ANI India is plannin...</td>\n",
       "      <td>1379489101976494081</td>\n",
       "      <td>287</td>\n",
       "      <td>2021-04-06 17:40:06</td>\n",
       "      <td>Twitter for Android</td>\n",
       "      <td>0</td>\n",
       "      <td>0</td>\n",
       "      <td>india plan doubl month vaccin product right pu...</td>\n",
       "      <td>162</td>\n",
       "    </tr>\n",
       "    <tr>\n",
       "      <th>1</th>\n",
       "      <td>Very nicely explained if you really want to kn...</td>\n",
       "      <td>1379488295495688192</td>\n",
       "      <td>95</td>\n",
       "      <td>2021-04-06 17:36:53</td>\n",
       "      <td>Twitter for Android</td>\n",
       "      <td>3</td>\n",
       "      <td>0</td>\n",
       "      <td>veri nice explain realli want know covaxin cov...</td>\n",
       "      <td>69</td>\n",
       "    </tr>\n",
       "    <tr>\n",
       "      <th>2</th>\n",
       "      <td>RT @KiranKS: India is planning to double per m...</td>\n",
       "      <td>1379487728807501825</td>\n",
       "      <td>140</td>\n",
       "      <td>2021-04-06 17:34:38</td>\n",
       "      <td>Twitter for iPhone</td>\n",
       "      <td>0</td>\n",
       "      <td>32</td>\n",
       "      <td>india plan doubl month vaccin product right pu...</td>\n",
       "      <td>79</td>\n",
       "    </tr>\n",
       "    <tr>\n",
       "      <th>3</th>\n",
       "      <td>India currently produces #Covishield (a local ...</td>\n",
       "      <td>1379487049863036931</td>\n",
       "      <td>220</td>\n",
       "      <td>2021-04-06 17:31:56</td>\n",
       "      <td>Twitter Web App</td>\n",
       "      <td>0</td>\n",
       "      <td>0</td>\n",
       "      <td>india current produc #covishield local version...</td>\n",
       "      <td>146</td>\n",
       "    </tr>\n",
       "    <tr>\n",
       "      <th>4</th>\n",
       "      <td>RT @gauripokhariyal: When Covid19 vaccination ...</td>\n",
       "      <td>1379485118444630022</td>\n",
       "      <td>139</td>\n",
       "      <td>2021-04-06 17:24:16</td>\n",
       "      <td>Twitter for Android</td>\n",
       "      <td>0</td>\n",
       "      <td>6</td>\n",
       "      <td>when covid vaccin drive start want inject with...</td>\n",
       "      <td>70</td>\n",
       "    </tr>\n",
       "  </tbody>\n",
       "</table>\n",
       "</div>"
      ],
      "text/plain": [
       "                                              Tweets                   id  \\\n",
       "0  @digvijaay46 @JoatAyushi @ANI India is plannin...  1379489101976494081   \n",
       "1  Very nicely explained if you really want to kn...  1379488295495688192   \n",
       "2  RT @KiranKS: India is planning to double per m...  1379487728807501825   \n",
       "3  India currently produces #Covishield (a local ...  1379487049863036931   \n",
       "4  RT @gauripokhariyal: When Covid19 vaccination ...  1379485118444630022   \n",
       "\n",
       "   len                date               source  likes  retweets  \\\n",
       "0  287 2021-04-06 17:40:06  Twitter for Android      0         0   \n",
       "1   95 2021-04-06 17:36:53  Twitter for Android      3         0   \n",
       "2  140 2021-04-06 17:34:38   Twitter for iPhone      0        32   \n",
       "3  220 2021-04-06 17:31:56      Twitter Web App      0         0   \n",
       "4  139 2021-04-06 17:24:16  Twitter for Android      0         6   \n",
       "\n",
       "                                          Clean_text  Clean_text_length  \n",
       "0  india plan doubl month vaccin product right pu...                162  \n",
       "1  veri nice explain realli want know covaxin cov...                 69  \n",
       "2  india plan doubl month vaccin product right pu...                 79  \n",
       "3  india current produc #covishield local version...                146  \n",
       "4  when covid vaccin drive start want inject with...                 70  "
      ]
     },
     "execution_count": 56,
     "metadata": {},
     "output_type": "execute_result"
    }
   ],
   "source": [
    "df['Clean_text_length'] = df['Clean_text'].apply(len)\n",
    "df.head()"
   ]
  },
  {
   "cell_type": "code",
   "execution_count": 57,
   "metadata": {
    "colab": {},
    "colab_type": "code",
    "id": "3asGGnMm-Kzj"
   },
   "outputs": [],
   "source": [
    "from textblob import TextBlob"
   ]
  },
  {
   "cell_type": "code",
   "execution_count": 58,
   "metadata": {
    "colab": {
     "base_uri": "https://localhost:8080/",
     "height": 34
    },
    "colab_type": "code",
    "id": "m0a0qrXN-Kzp",
    "outputId": "27047abf-43bc-4240-aa2a-06287b5704ea"
   },
   "outputs": [
    {
     "data": {
      "text/plain": [
       "Sentiment(polarity=0.3148148148148148, subjectivity=0.6296296296296297)"
      ]
     },
     "execution_count": 58,
     "metadata": {},
     "output_type": "execute_result"
    }
   ],
   "source": [
    "TextBlob('Still enjoying the almost nice day out.  Now its down to +13, and calling for rain...').sentiment"
   ]
  },
  {
   "cell_type": "code",
   "execution_count": 59,
   "metadata": {
    "colab": {},
    "colab_type": "code",
    "id": "hVAy3rQF-Kzw"
   },
   "outputs": [],
   "source": [
    "c=TextBlob(\"This was because he wasted time listing the failures of Congress prime  ministers. This was unnecessary because they are history and you, Narendra Modi, are the first Prime Minister in 30 years to be given a full mandate by the people of India\")"
   ]
  },
  {
   "cell_type": "code",
   "execution_count": 60,
   "metadata": {
    "colab": {},
    "colab_type": "code",
    "id": "XGGm0t6O-Kz1"
   },
   "outputs": [],
   "source": [
    "def calculate_sentiment(Clean_text):\n",
    "    return TextBlob(Clean_text).sentiment"
   ]
  },
  {
   "cell_type": "code",
   "execution_count": 61,
   "metadata": {
    "colab": {},
    "colab_type": "code",
    "id": "lX2zZs8Ms-IJ"
   },
   "outputs": [],
   "source": [
    "def calculate_sentiment_analyser(Clean_text):    \n",
    "    return analyser.polarity_scores(Clean_text)"
   ]
  },
  {
   "cell_type": "code",
   "execution_count": 62,
   "metadata": {
    "colab": {
     "base_uri": "https://localhost:8080/",
     "height": 414
    },
    "colab_type": "code",
    "id": "egVircdv-Kz5",
    "outputId": "cf971217-9fe6-4579-9c2c-1bce68cd941a"
   },
   "outputs": [
    {
     "data": {
      "text/html": [
       "<div>\n",
       "<style scoped>\n",
       "    .dataframe tbody tr th:only-of-type {\n",
       "        vertical-align: middle;\n",
       "    }\n",
       "\n",
       "    .dataframe tbody tr th {\n",
       "        vertical-align: top;\n",
       "    }\n",
       "\n",
       "    .dataframe thead th {\n",
       "        text-align: right;\n",
       "    }\n",
       "</style>\n",
       "<table border=\"1\" class=\"dataframe\">\n",
       "  <thead>\n",
       "    <tr style=\"text-align: right;\">\n",
       "      <th></th>\n",
       "      <th>Tweets</th>\n",
       "      <th>id</th>\n",
       "      <th>len</th>\n",
       "      <th>date</th>\n",
       "      <th>source</th>\n",
       "      <th>likes</th>\n",
       "      <th>retweets</th>\n",
       "      <th>Clean_text</th>\n",
       "      <th>Clean_text_length</th>\n",
       "      <th>sentiment</th>\n",
       "      <th>sentiment_analyser</th>\n",
       "      <th>compound_score</th>\n",
       "      <th>compound_score_sentiment</th>\n",
       "    </tr>\n",
       "  </thead>\n",
       "  <tbody>\n",
       "    <tr>\n",
       "      <th>0</th>\n",
       "      <td>@digvijaay46 @JoatAyushi @ANI India is plannin...</td>\n",
       "      <td>1379489101976494081</td>\n",
       "      <td>287</td>\n",
       "      <td>2021-04-06 17:40:06</td>\n",
       "      <td>Twitter for Android</td>\n",
       "      <td>0</td>\n",
       "      <td>0</td>\n",
       "      <td>india plan doubl month vaccin product right pu...</td>\n",
       "      <td>162</td>\n",
       "      <td>(0.2857142857142857, 0.5357142857142857)</td>\n",
       "      <td>{'neg': 0.0, 'neu': 1.0, 'pos': 0.0, 'compound...</td>\n",
       "      <td>0.0</td>\n",
       "      <td>Neutral</td>\n",
       "    </tr>\n",
       "    <tr>\n",
       "      <th>1</th>\n",
       "      <td>Very nicely explained if you really want to kn...</td>\n",
       "      <td>1379488295495688192</td>\n",
       "      <td>95</td>\n",
       "      <td>2021-04-06 17:36:53</td>\n",
       "      <td>Twitter for Android</td>\n",
       "      <td>3</td>\n",
       "      <td>0</td>\n",
       "      <td>veri nice explain realli want know covaxin cov...</td>\n",
       "      <td>69</td>\n",
       "      <td>(0.6, 1.0)</td>\n",
       "      <td>{'neg': 0.0, 'neu': 0.661, 'pos': 0.339, 'comp...</td>\n",
       "      <td>0.4767</td>\n",
       "      <td>Positive</td>\n",
       "    </tr>\n",
       "    <tr>\n",
       "      <th>2</th>\n",
       "      <td>RT @KiranKS: India is planning to double per m...</td>\n",
       "      <td>1379487728807501825</td>\n",
       "      <td>140</td>\n",
       "      <td>2021-04-06 17:34:38</td>\n",
       "      <td>Twitter for iPhone</td>\n",
       "      <td>0</td>\n",
       "      <td>32</td>\n",
       "      <td>india plan doubl month vaccin product right pu...</td>\n",
       "      <td>79</td>\n",
       "      <td>(0.2857142857142857, 0.5357142857142857)</td>\n",
       "      <td>{'neg': 0.0, 'neu': 1.0, 'pos': 0.0, 'compound...</td>\n",
       "      <td>0.0</td>\n",
       "      <td>Neutral</td>\n",
       "    </tr>\n",
       "    <tr>\n",
       "      <th>3</th>\n",
       "      <td>India currently produces #Covishield (a local ...</td>\n",
       "      <td>1379487049863036931</td>\n",
       "      <td>220</td>\n",
       "      <td>2021-04-06 17:31:56</td>\n",
       "      <td>Twitter Web App</td>\n",
       "      <td>0</td>\n",
       "      <td>0</td>\n",
       "      <td>india current produc #covishield local version...</td>\n",
       "      <td>146</td>\n",
       "      <td>(0.0, 0.2)</td>\n",
       "      <td>{'neg': 0.0, 'neu': 1.0, 'pos': 0.0, 'compound...</td>\n",
       "      <td>0.0</td>\n",
       "      <td>Neutral</td>\n",
       "    </tr>\n",
       "  </tbody>\n",
       "</table>\n",
       "</div>"
      ],
      "text/plain": [
       "                                              Tweets                   id  \\\n",
       "0  @digvijaay46 @JoatAyushi @ANI India is plannin...  1379489101976494081   \n",
       "1  Very nicely explained if you really want to kn...  1379488295495688192   \n",
       "2  RT @KiranKS: India is planning to double per m...  1379487728807501825   \n",
       "3  India currently produces #Covishield (a local ...  1379487049863036931   \n",
       "\n",
       "   len                date               source  likes  retweets  \\\n",
       "0  287 2021-04-06 17:40:06  Twitter for Android      0         0   \n",
       "1   95 2021-04-06 17:36:53  Twitter for Android      3         0   \n",
       "2  140 2021-04-06 17:34:38   Twitter for iPhone      0        32   \n",
       "3  220 2021-04-06 17:31:56      Twitter Web App      0         0   \n",
       "\n",
       "                                          Clean_text  Clean_text_length  \\\n",
       "0  india plan doubl month vaccin product right pu...                162   \n",
       "1  veri nice explain realli want know covaxin cov...                 69   \n",
       "2  india plan doubl month vaccin product right pu...                 79   \n",
       "3  india current produc #covishield local version...                146   \n",
       "\n",
       "                                  sentiment  \\\n",
       "0  (0.2857142857142857, 0.5357142857142857)   \n",
       "1                                (0.6, 1.0)   \n",
       "2  (0.2857142857142857, 0.5357142857142857)   \n",
       "3                                (0.0, 0.2)   \n",
       "\n",
       "                                  sentiment_analyser compound_score  \\\n",
       "0  {'neg': 0.0, 'neu': 1.0, 'pos': 0.0, 'compound...            0.0   \n",
       "1  {'neg': 0.0, 'neu': 0.661, 'pos': 0.339, 'comp...         0.4767   \n",
       "2  {'neg': 0.0, 'neu': 1.0, 'pos': 0.0, 'compound...            0.0   \n",
       "3  {'neg': 0.0, 'neu': 1.0, 'pos': 0.0, 'compound...            0.0   \n",
       "\n",
       "  compound_score_sentiment  \n",
       "0                  Neutral  \n",
       "1                 Positive  \n",
       "2                  Neutral  \n",
       "3                  Neutral  "
      ]
     },
     "execution_count": 62,
     "metadata": {},
     "output_type": "execute_result"
    }
   ],
   "source": [
    "df['sentiment']=df.Clean_text.apply(calculate_sentiment)\n",
    "df['sentiment_analyser']=df.Clean_text.apply(calculate_sentiment_analyser)\n",
    "\n",
    "\n",
    "s = pd.DataFrame(index = range(0,len(df)),columns= ['compound_score','compound_score_sentiment'])\n",
    "\n",
    "for i in range(0,len(df)): \n",
    "  s['compound_score'][i] = df['sentiment_analyser'][i]['compound']\n",
    "  \n",
    "  if (df['sentiment_analyser'][i]['compound'] <= -0.05):\n",
    "    s['compound_score_sentiment'][i] = 'Negative'    \n",
    "  if (df['sentiment_analyser'][i]['compound'] >= 0.05):\n",
    "    s['compound_score_sentiment'][i] = 'Positive'\n",
    "  if ((df['sentiment_analyser'][i]['compound'] >= -0.05) & (df['sentiment_analyser'][i]['compound'] <= 0.05)):\n",
    "    s['compound_score_sentiment'][i] = 'Neutral'\n",
    "    \n",
    "df['compound_score'] = s['compound_score']\n",
    "df['compound_score_sentiment'] = s['compound_score_sentiment']\n",
    "df.head(4)\n"
   ]
  },
  {
   "cell_type": "code",
   "execution_count": 63,
   "metadata": {
    "colab": {
     "base_uri": "https://localhost:8080/",
     "height": 85
    },
    "colab_type": "code",
    "id": "xwD4326AGaxz",
    "outputId": "db216107-f794-4808-ac3f-f7c81ae37320"
   },
   "outputs": [
    {
     "data": {
      "text/plain": [
       "Neutral     65\n",
       "Positive    44\n",
       "Negative    19\n",
       "Name: compound_score_sentiment, dtype: int64"
      ]
     },
     "execution_count": 63,
     "metadata": {},
     "output_type": "execute_result"
    }
   ],
   "source": [
    "df.compound_score_sentiment.value_counts()"
   ]
  },
  {
   "cell_type": "code",
   "execution_count": 64,
   "metadata": {
    "colab": {
     "base_uri": "https://localhost:8080/",
     "height": 119
    },
    "colab_type": "code",
    "id": "6ze4_rLH8Psz",
    "outputId": "939b25d4-63b3-4d2c-db84-7faa3dcf03c2"
   },
   "outputs": [
    {
     "data": {
      "text/plain": [
       "0    india plan doubl month vaccin product right pu...\n",
       "1    veri nice explain realli want know covaxin cov...\n",
       "2    india plan doubl month vaccin product right pu...\n",
       "3    india current produc #covishield local version...\n",
       "4    when covid vaccin drive start want inject with...\n",
       "Name: Clean_text, dtype: object"
      ]
     },
     "execution_count": 64,
     "metadata": {},
     "output_type": "execute_result"
    }
   ],
   "source": [
    "df['Clean_text'].head()"
   ]
  },
  {
   "cell_type": "code",
   "execution_count": 65,
   "metadata": {
    "colab": {},
    "colab_type": "code",
    "id": "HZsEfqK98Vr8"
   },
   "outputs": [],
   "source": [
    "#tf = TfidfVectorizer(analyzer='word', ngram_range=(1, 3), min_df=0, stop_words='english')\n",
    "from sklearn.feature_extraction.text import TfidfVectorizer, CountVectorizer\n",
    "# Considering 3 grams and mimnimum frq as 0\n",
    "tf_idf_vect = CountVectorizer(analyzer='word',ngram_range=(1,1),stop_words='english', min_df = 0.0001)\n",
    "tf_idf_vect.fit(df['Clean_text'])\n",
    "desc_matrix = tf_idf_vect.transform(df[\"Clean_text\"])\n"
   ]
  },
  {
   "cell_type": "code",
   "execution_count": 66,
   "metadata": {
    "colab": {},
    "colab_type": "code",
    "id": "H-di5w_Y8uol"
   },
   "outputs": [],
   "source": [
    "# implement kmeans\n",
    "\n",
    "from sklearn.cluster import KMeans\n",
    "num_clusters = 3\n",
    "km = KMeans(n_clusters=num_clusters)\n",
    "km.fit(desc_matrix)\n",
    "clusters = km.labels_.tolist()"
   ]
  },
  {
   "cell_type": "code",
   "execution_count": 67,
   "metadata": {
    "colab": {
     "base_uri": "https://localhost:8080/",
     "height": 1969
    },
    "colab_type": "code",
    "id": "qgaORMm0893R",
    "outputId": "f3611caf-44a3-4fb3-bd7a-ec822773cfca"
   },
   "outputs": [
    {
     "data": {
      "text/html": [
       "<div>\n",
       "<style scoped>\n",
       "    .dataframe tbody tr th:only-of-type {\n",
       "        vertical-align: middle;\n",
       "    }\n",
       "\n",
       "    .dataframe tbody tr th {\n",
       "        vertical-align: top;\n",
       "    }\n",
       "\n",
       "    .dataframe thead th {\n",
       "        text-align: right;\n",
       "    }\n",
       "</style>\n",
       "<table border=\"1\" class=\"dataframe\">\n",
       "  <thead>\n",
       "    <tr style=\"text-align: right;\">\n",
       "      <th></th>\n",
       "      <th>Tweet</th>\n",
       "      <th>Cluster</th>\n",
       "    </tr>\n",
       "  </thead>\n",
       "  <tbody>\n",
       "    <tr>\n",
       "      <th>1</th>\n",
       "      <td>india plan doubl month vaccin product right pu...</td>\n",
       "      <td>1</td>\n",
       "    </tr>\n",
       "    <tr>\n",
       "      <th>0</th>\n",
       "      <td>veri nice explain realli want know covaxin cov...</td>\n",
       "      <td>0</td>\n",
       "    </tr>\n",
       "    <tr>\n",
       "      <th>1</th>\n",
       "      <td>india plan doubl month vaccin product right pu...</td>\n",
       "      <td>1</td>\n",
       "    </tr>\n",
       "    <tr>\n",
       "      <th>0</th>\n",
       "      <td>india current produc #covishield local version...</td>\n",
       "      <td>0</td>\n",
       "    </tr>\n",
       "    <tr>\n",
       "      <th>2</th>\n",
       "      <td>when covid vaccin drive start want inject with...</td>\n",
       "      <td>2</td>\n",
       "    </tr>\n",
       "    <tr>\n",
       "      <th>...</th>\n",
       "      <td>...</td>\n",
       "      <td>...</td>\n",
       "    </tr>\n",
       "    <tr>\n",
       "      <th>2</th>\n",
       "      <td>indian medic associ write prime minist narendr...</td>\n",
       "      <td>2</td>\n",
       "    </tr>\n",
       "    <tr>\n",
       "      <th>0</th>\n",
       "      <td>they take dolo time base symptom note covishie...</td>\n",
       "      <td>0</td>\n",
       "    </tr>\n",
       "    <tr>\n",
       "      <th>0</th>\n",
       "      <td>correct mostli covishield there shortag covaxin</td>\n",
       "      <td>0</td>\n",
       "    </tr>\n",
       "    <tr>\n",
       "      <th>0</th>\n",
       "      <td>actual pune covaxin avail think everywher covi...</td>\n",
       "      <td>0</td>\n",
       "    </tr>\n",
       "    <tr>\n",
       "      <th>0</th>\n",
       "      <td>covaxin avail anywher rajnandgaon chhattisgarh...</td>\n",
       "      <td>0</td>\n",
       "    </tr>\n",
       "  </tbody>\n",
       "</table>\n",
       "<p>128 rows × 2 columns</p>\n",
       "</div>"
      ],
      "text/plain": [
       "                                                Tweet  Cluster\n",
       "1   india plan doubl month vaccin product right pu...        1\n",
       "0   veri nice explain realli want know covaxin cov...        0\n",
       "1   india plan doubl month vaccin product right pu...        1\n",
       "0   india current produc #covishield local version...        0\n",
       "2   when covid vaccin drive start want inject with...        2\n",
       "..                                                ...      ...\n",
       "2   indian medic associ write prime minist narendr...        2\n",
       "0   they take dolo time base symptom note covishie...        0\n",
       "0     correct mostli covishield there shortag covaxin        0\n",
       "0   actual pune covaxin avail think everywher covi...        0\n",
       "0   covaxin avail anywher rajnandgaon chhattisgarh...        0\n",
       "\n",
       "[128 rows x 2 columns]"
      ]
     },
     "execution_count": 67,
     "metadata": {},
     "output_type": "execute_result"
    }
   ],
   "source": [
    "# create DataFrame films from all of the input files.\n",
    "tweets = {'Tweet': df[\"Clean_text\"].tolist(), 'Cluster': clusters}\n",
    "frame = pd.DataFrame(tweets, index = [clusters])\n",
    "frame"
   ]
  },
  {
   "cell_type": "code",
   "execution_count": 68,
   "metadata": {
    "colab": {
     "base_uri": "https://localhost:8080/",
     "height": 85
    },
    "colab_type": "code",
    "id": "yyO98hs19E7q",
    "outputId": "05895d77-e9cc-447b-d11f-98b4f5f74b36"
   },
   "outputs": [
    {
     "data": {
      "text/plain": [
       "0    67\n",
       "2    55\n",
       "1     6\n",
       "Name: Cluster, dtype: int64"
      ]
     },
     "execution_count": 68,
     "metadata": {},
     "output_type": "execute_result"
    }
   ],
   "source": [
    "frame['Cluster'].value_counts()"
   ]
  },
  {
   "cell_type": "code",
   "execution_count": 69,
   "metadata": {
    "colab": {
     "base_uri": "https://localhost:8080/",
     "height": 1969
    },
    "colab_type": "code",
    "id": "Ba_TeZgU_kP0",
    "outputId": "71bdd1e8-d719-4346-c07e-7ca99a804174"
   },
   "outputs": [
    {
     "data": {
      "text/html": [
       "<div>\n",
       "<style scoped>\n",
       "    .dataframe tbody tr th:only-of-type {\n",
       "        vertical-align: middle;\n",
       "    }\n",
       "\n",
       "    .dataframe tbody tr th {\n",
       "        vertical-align: top;\n",
       "    }\n",
       "\n",
       "    .dataframe thead th {\n",
       "        text-align: right;\n",
       "    }\n",
       "</style>\n",
       "<table border=\"1\" class=\"dataframe\">\n",
       "  <thead>\n",
       "    <tr style=\"text-align: right;\">\n",
       "      <th></th>\n",
       "      <th>Tweet</th>\n",
       "      <th>Cluster</th>\n",
       "    </tr>\n",
       "  </thead>\n",
       "  <tbody>\n",
       "    <tr>\n",
       "      <th>1</th>\n",
       "      <td>india plan doubl month vaccin product right pu...</td>\n",
       "      <td>1</td>\n",
       "    </tr>\n",
       "    <tr>\n",
       "      <th>1</th>\n",
       "      <td>india plan doubl month vaccin product right pu...</td>\n",
       "      <td>1</td>\n",
       "    </tr>\n",
       "    <tr>\n",
       "      <th>1</th>\n",
       "      <td>avail reliabl inform current product capac cov...</td>\n",
       "      <td>1</td>\n",
       "    </tr>\n",
       "    <tr>\n",
       "      <th>1</th>\n",
       "      <td>india plan doubl month vaccin product right pu...</td>\n",
       "      <td>1</td>\n",
       "    </tr>\n",
       "    <tr>\n",
       "      <th>1</th>\n",
       "      <td>serum institut make million dose covishield ev...</td>\n",
       "      <td>1</td>\n",
       "    </tr>\n",
       "    <tr>\n",
       "      <th>1</th>\n",
       "      <td>ndtv channel report india vaccin last current ...</td>\n",
       "      <td>1</td>\n",
       "    </tr>\n",
       "  </tbody>\n",
       "</table>\n",
       "</div>"
      ],
      "text/plain": [
       "                                               Tweet  Cluster\n",
       "1  india plan doubl month vaccin product right pu...        1\n",
       "1  india plan doubl month vaccin product right pu...        1\n",
       "1  avail reliabl inform current product capac cov...        1\n",
       "1  india plan doubl month vaccin product right pu...        1\n",
       "1  serum institut make million dose covishield ev...        1\n",
       "1  ndtv channel report india vaccin last current ...        1"
      ]
     },
     "execution_count": 69,
     "metadata": {},
     "output_type": "execute_result"
    }
   ],
   "source": [
    "frame[frame['Cluster'] == 1]"
   ]
  },
  {
   "cell_type": "code",
   "execution_count": 70,
   "metadata": {
    "colab": {
     "base_uri": "https://localhost:8080/",
     "height": 1969
    },
    "colab_type": "code",
    "id": "o2of-of4_mFb",
    "outputId": "9635f8b5-e462-4978-b057-2c4e68aceab3"
   },
   "outputs": [
    {
     "data": {
      "text/html": [
       "<div>\n",
       "<style scoped>\n",
       "    .dataframe tbody tr th:only-of-type {\n",
       "        vertical-align: middle;\n",
       "    }\n",
       "\n",
       "    .dataframe tbody tr th {\n",
       "        vertical-align: top;\n",
       "    }\n",
       "\n",
       "    .dataframe thead th {\n",
       "        text-align: right;\n",
       "    }\n",
       "</style>\n",
       "<table border=\"1\" class=\"dataframe\">\n",
       "  <thead>\n",
       "    <tr style=\"text-align: right;\">\n",
       "      <th></th>\n",
       "      <th>Tweet</th>\n",
       "      <th>Cluster</th>\n",
       "    </tr>\n",
       "  </thead>\n",
       "  <tbody>\n",
       "    <tr>\n",
       "      <th>2</th>\n",
       "      <td>when covid vaccin drive start want inject with...</td>\n",
       "      <td>2</td>\n",
       "    </tr>\n",
       "    <tr>\n",
       "      <th>2</th>\n",
       "      <td>oxford astrazeneca covid vaccin review conclus...</td>\n",
       "      <td>2</td>\n",
       "    </tr>\n",
       "    <tr>\n",
       "      <th>2</th>\n",
       "      <td>http xscmxp while those have been administ cov...</td>\n",
       "      <td>2</td>\n",
       "    </tr>\n",
       "    <tr>\n",
       "      <th>2</th>\n",
       "      <td>with vaccin centr jab hour shift crore vaccin ...</td>\n",
       "      <td>2</td>\n",
       "    </tr>\n",
       "    <tr>\n",
       "      <th>2</th>\n",
       "      <td>which vaccin better covishield covaxin</td>\n",
       "      <td>2</td>\n",
       "    </tr>\n",
       "    <tr>\n",
       "      <th>2</th>\n",
       "      <td>colleagu corona after both dose hospitalis som...</td>\n",
       "      <td>2</td>\n",
       "    </tr>\n",
       "    <tr>\n",
       "      <th>2</th>\n",
       "      <td>ishkaranji covishield vaccin own view astra ze...</td>\n",
       "      <td>2</td>\n",
       "    </tr>\n",
       "    <tr>\n",
       "      <th>2</th>\n",
       "      <td>india total dose contract suppli contract covi...</td>\n",
       "      <td>2</td>\n",
       "    </tr>\n",
       "    <tr>\n",
       "      <th>2</th>\n",
       "      <td>hack figur where covishield covaxin near login...</td>\n",
       "      <td>2</td>\n",
       "    </tr>\n",
       "    <tr>\n",
       "      <th>2</th>\n",
       "      <td>time give higher prefer #covaxin have higher e...</td>\n",
       "      <td>2</td>\n",
       "    </tr>\n",
       "    <tr>\n",
       "      <th>2</th>\n",
       "      <td>even dont have choic vaccin half center citi s...</td>\n",
       "      <td>2</td>\n",
       "    </tr>\n",
       "    <tr>\n",
       "      <th>2</th>\n",
       "      <td>both import what number dose domest need that ...</td>\n",
       "      <td>2</td>\n",
       "    </tr>\n",
       "    <tr>\n",
       "      <th>2</th>\n",
       "      <td>when will post offic staff feel corona vaccin ...</td>\n",
       "      <td>2</td>\n",
       "    </tr>\n",
       "    <tr>\n",
       "      <th>2</th>\n",
       "      <td>veri import thread tweet vaccin import should ...</td>\n",
       "      <td>2</td>\n",
       "    </tr>\n",
       "    <tr>\n",
       "      <th>2</th>\n",
       "      <td>four front protect intern vaccin covaxin covis...</td>\n",
       "      <td>2</td>\n",
       "    </tr>\n",
       "    <tr>\n",
       "      <th>2</th>\n",
       "      <td>total person were vaccin odisha tuesday which ...</td>\n",
       "      <td>2</td>\n",
       "    </tr>\n",
       "    <tr>\n",
       "      <th>2</th>\n",
       "      <td>covishield much effect while trial covaxin sti...</td>\n",
       "      <td>2</td>\n",
       "    </tr>\n",
       "    <tr>\n",
       "      <th>2</th>\n",
       "      <td>where covishield vaccin thane have choic betwe...</td>\n",
       "      <td>2</td>\n",
       "    </tr>\n",
       "    <tr>\n",
       "      <th>2</th>\n",
       "      <td>clear link between astra vaccin rare blood clo...</td>\n",
       "      <td>2</td>\n",
       "    </tr>\n",
       "    <tr>\n",
       "      <th>2</th>\n",
       "      <td>india procur more base covaxin instead covishi...</td>\n",
       "      <td>2</td>\n",
       "    </tr>\n",
       "    <tr>\n",
       "      <th>2</th>\n",
       "      <td>strong dedic ladi team with their vaccin wish ...</td>\n",
       "      <td>2</td>\n",
       "    </tr>\n",
       "    <tr>\n",
       "      <th>2</th>\n",
       "      <td>apna desi wala vaccin covaxin covishield nahi ...</td>\n",
       "      <td>2</td>\n",
       "    </tr>\n",
       "    <tr>\n",
       "      <th>2</th>\n",
       "      <td>also effect dose covishield nullifi whole viru...</td>\n",
       "      <td>2</td>\n",
       "    </tr>\n",
       "    <tr>\n",
       "      <th>2</th>\n",
       "      <td>apna desi wala vaccin covaxin covishield nahi ...</td>\n",
       "      <td>2</td>\n",
       "    </tr>\n",
       "    <tr>\n",
       "      <th>2</th>\n",
       "      <td>four front protect intern vaccin covaxin covis...</td>\n",
       "      <td>2</td>\n",
       "    </tr>\n",
       "    <tr>\n",
       "      <th>2</th>\n",
       "      <td>guest column differ #covid vaccin candid point...</td>\n",
       "      <td>2</td>\n",
       "    </tr>\n",
       "    <tr>\n",
       "      <th>2</th>\n",
       "      <td>strong dedic ladi team with their vaccin wish ...</td>\n",
       "      <td>2</td>\n",
       "    </tr>\n",
       "    <tr>\n",
       "      <th>2</th>\n",
       "      <td>say #covishield #covaxin have efficaci against...</td>\n",
       "      <td>2</td>\n",
       "    </tr>\n",
       "    <tr>\n",
       "      <th>2</th>\n",
       "      <td>covishield covaxin both have gone full throttl...</td>\n",
       "      <td>2</td>\n",
       "    </tr>\n",
       "    <tr>\n",
       "      <th>2</th>\n",
       "      <td>india sadli increas case show that optim seem ...</td>\n",
       "      <td>2</td>\n",
       "    </tr>\n",
       "    <tr>\n",
       "      <th>2</th>\n",
       "      <td>revis applic onli oxford astrazeneca vaccin ma...</td>\n",
       "      <td>2</td>\n",
       "    </tr>\n",
       "    <tr>\n",
       "      <th>2</th>\n",
       "      <td>current monthli product capac covishield covax...</td>\n",
       "      <td>2</td>\n",
       "    </tr>\n",
       "    <tr>\n",
       "      <th>2</th>\n",
       "      <td>commit similar price covax gavi price isnt dis...</td>\n",
       "      <td>2</td>\n",
       "    </tr>\n",
       "    <tr>\n",
       "      <th>2</th>\n",
       "      <td>also there convers that covaxin better vaccin ...</td>\n",
       "      <td>2</td>\n",
       "    </tr>\n",
       "    <tr>\n",
       "      <th>2</th>\n",
       "      <td>covidiot respons will take onli covaxin covish...</td>\n",
       "      <td>2</td>\n",
       "    </tr>\n",
       "    <tr>\n",
       "      <th>2</th>\n",
       "      <td>when covid vaccin drive start want inject with...</td>\n",
       "      <td>2</td>\n",
       "    </tr>\n",
       "    <tr>\n",
       "      <th>2</th>\n",
       "      <td>#covid #vaccin good point prioriti should give...</td>\n",
       "      <td>2</td>\n",
       "    </tr>\n",
       "    <tr>\n",
       "      <th>2</th>\n",
       "      <td>differ vaccin person covishield covaxin both h...</td>\n",
       "      <td>2</td>\n",
       "    </tr>\n",
       "    <tr>\n",
       "      <th>2</th>\n",
       "      <td>#covid #vaccin good point prioriti should give...</td>\n",
       "      <td>2</td>\n",
       "    </tr>\n",
       "    <tr>\n",
       "      <th>2</th>\n",
       "      <td>#firstdos #covishield #vaccin done april thank...</td>\n",
       "      <td>2</td>\n",
       "    </tr>\n",
       "    <tr>\n",
       "      <th>2</th>\n",
       "      <td>good lesson vaccin foolproof fact pfizer claim...</td>\n",
       "      <td>2</td>\n",
       "    </tr>\n",
       "    <tr>\n",
       "      <th>2</th>\n",
       "      <td>doctor interest take vaccin pleas know where c...</td>\n",
       "      <td>2</td>\n",
       "    </tr>\n",
       "    <tr>\n",
       "      <th>2</th>\n",
       "      <td>prep third vaccin #covidvaccin #covishield #co...</td>\n",
       "      <td>2</td>\n",
       "    </tr>\n",
       "    <tr>\n",
       "      <th>2</th>\n",
       "      <td>with rollout sever #coronaviru vaccin over wor...</td>\n",
       "      <td>2</td>\n",
       "    </tr>\n",
       "    <tr>\n",
       "      <th>2</th>\n",
       "      <td>total #vaccin manufactur capac #covid #india c...</td>\n",
       "      <td>2</td>\n",
       "    </tr>\n",
       "    <tr>\n",
       "      <th>2</th>\n",
       "      <td>dude know which hole live creat vaccin covaxin...</td>\n",
       "      <td>2</td>\n",
       "    </tr>\n",
       "    <tr>\n",
       "      <th>2</th>\n",
       "      <td>take care everyon complain apprehens take vacc...</td>\n",
       "      <td>2</td>\n",
       "    </tr>\n",
       "    <tr>\n",
       "      <th>2</th>\n",
       "      <td>chaotic scene local vaccin centr crowd come be...</td>\n",
       "      <td>2</td>\n",
       "    </tr>\n",
       "    <tr>\n",
       "      <th>2</th>\n",
       "      <td>vaccin current #covishield #covaxin india dose...</td>\n",
       "      <td>2</td>\n",
       "    </tr>\n",
       "    <tr>\n",
       "      <th>2</th>\n",
       "      <td>parent vaccin with #covaxin march today they h...</td>\n",
       "      <td>2</td>\n",
       "    </tr>\n",
       "    <tr>\n",
       "      <th>2</th>\n",
       "      <td>peopl creat covaxin covishield argument lucki ...</td>\n",
       "      <td>2</td>\n",
       "    </tr>\n",
       "    <tr>\n",
       "      <th>2</th>\n",
       "      <td>just been advis that valneva covid vaccin cont...</td>\n",
       "      <td>2</td>\n",
       "    </tr>\n",
       "    <tr>\n",
       "      <th>2</th>\n",
       "      <td>#vaccin spawn #selfi #valfi term coin #twitter...</td>\n",
       "      <td>2</td>\n",
       "    </tr>\n",
       "    <tr>\n",
       "      <th>2</th>\n",
       "      <td>might feel mrna vaccin more dager covaxin covi...</td>\n",
       "      <td>2</td>\n",
       "    </tr>\n",
       "    <tr>\n",
       "      <th>2</th>\n",
       "      <td>indian medic associ write prime minist narendr...</td>\n",
       "      <td>2</td>\n",
       "    </tr>\n",
       "  </tbody>\n",
       "</table>\n",
       "</div>"
      ],
      "text/plain": [
       "                                               Tweet  Cluster\n",
       "2  when covid vaccin drive start want inject with...        2\n",
       "2  oxford astrazeneca covid vaccin review conclus...        2\n",
       "2  http xscmxp while those have been administ cov...        2\n",
       "2  with vaccin centr jab hour shift crore vaccin ...        2\n",
       "2             which vaccin better covishield covaxin        2\n",
       "2  colleagu corona after both dose hospitalis som...        2\n",
       "2  ishkaranji covishield vaccin own view astra ze...        2\n",
       "2  india total dose contract suppli contract covi...        2\n",
       "2  hack figur where covishield covaxin near login...        2\n",
       "2  time give higher prefer #covaxin have higher e...        2\n",
       "2  even dont have choic vaccin half center citi s...        2\n",
       "2  both import what number dose domest need that ...        2\n",
       "2  when will post offic staff feel corona vaccin ...        2\n",
       "2  veri import thread tweet vaccin import should ...        2\n",
       "2  four front protect intern vaccin covaxin covis...        2\n",
       "2  total person were vaccin odisha tuesday which ...        2\n",
       "2  covishield much effect while trial covaxin sti...        2\n",
       "2  where covishield vaccin thane have choic betwe...        2\n",
       "2  clear link between astra vaccin rare blood clo...        2\n",
       "2  india procur more base covaxin instead covishi...        2\n",
       "2  strong dedic ladi team with their vaccin wish ...        2\n",
       "2  apna desi wala vaccin covaxin covishield nahi ...        2\n",
       "2  also effect dose covishield nullifi whole viru...        2\n",
       "2  apna desi wala vaccin covaxin covishield nahi ...        2\n",
       "2  four front protect intern vaccin covaxin covis...        2\n",
       "2  guest column differ #covid vaccin candid point...        2\n",
       "2  strong dedic ladi team with their vaccin wish ...        2\n",
       "2  say #covishield #covaxin have efficaci against...        2\n",
       "2  covishield covaxin both have gone full throttl...        2\n",
       "2  india sadli increas case show that optim seem ...        2\n",
       "2  revis applic onli oxford astrazeneca vaccin ma...        2\n",
       "2  current monthli product capac covishield covax...        2\n",
       "2  commit similar price covax gavi price isnt dis...        2\n",
       "2  also there convers that covaxin better vaccin ...        2\n",
       "2  covidiot respons will take onli covaxin covish...        2\n",
       "2  when covid vaccin drive start want inject with...        2\n",
       "2  #covid #vaccin good point prioriti should give...        2\n",
       "2  differ vaccin person covishield covaxin both h...        2\n",
       "2  #covid #vaccin good point prioriti should give...        2\n",
       "2  #firstdos #covishield #vaccin done april thank...        2\n",
       "2  good lesson vaccin foolproof fact pfizer claim...        2\n",
       "2  doctor interest take vaccin pleas know where c...        2\n",
       "2  prep third vaccin #covidvaccin #covishield #co...        2\n",
       "2  with rollout sever #coronaviru vaccin over wor...        2\n",
       "2  total #vaccin manufactur capac #covid #india c...        2\n",
       "2  dude know which hole live creat vaccin covaxin...        2\n",
       "2  take care everyon complain apprehens take vacc...        2\n",
       "2  chaotic scene local vaccin centr crowd come be...        2\n",
       "2  vaccin current #covishield #covaxin india dose...        2\n",
       "2  parent vaccin with #covaxin march today they h...        2\n",
       "2  peopl creat covaxin covishield argument lucki ...        2\n",
       "2  just been advis that valneva covid vaccin cont...        2\n",
       "2  #vaccin spawn #selfi #valfi term coin #twitter...        2\n",
       "2  might feel mrna vaccin more dager covaxin covi...        2\n",
       "2  indian medic associ write prime minist narendr...        2"
      ]
     },
     "execution_count": 70,
     "metadata": {},
     "output_type": "execute_result"
    }
   ],
   "source": [
    "frame[frame['Cluster'] == 2]"
   ]
  },
  {
   "cell_type": "code",
   "execution_count": null,
   "metadata": {},
   "outputs": [],
   "source": []
  }
 ],
 "metadata": {
  "accelerator": "GPU",
  "colab": {
   "collapsed_sections": [],
   "name": "Sentiment vaderSentiment.ipynb",
   "provenance": [],
   "version": "0.3.2"
  },
  "kernelspec": {
   "display_name": "Python 3",
   "language": "python",
   "name": "python3"
  },
  "language_info": {
   "codemirror_mode": {
    "name": "ipython",
    "version": 3
   },
   "file_extension": ".py",
   "mimetype": "text/x-python",
   "name": "python",
   "nbconvert_exporter": "python",
   "pygments_lexer": "ipython3",
   "version": "3.8.8"
  }
 },
 "nbformat": 4,
 "nbformat_minor": 1
}


