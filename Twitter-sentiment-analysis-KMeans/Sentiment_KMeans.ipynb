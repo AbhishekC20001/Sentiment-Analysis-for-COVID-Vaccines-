{
 "cells": [
  {
   "cell_type": "code",
   "execution_count": 476,
   "metadata": {
    "colab": {
     "base_uri": "https://localhost:8080/",
     "height": 921
    },
    "colab_type": "code",
    "id": "HjE9sdeF-KvD",
    "outputId": "6d5b808d-1780-42ae-d284-e4edecaf6760"
   },
   "outputs": [],
   "source": [
    "# Import all required libraries\n",
    "\n",
    "import nltk\n",
    "import numpy as np\n",
    "import re\n",
    "import pandas as pd \n",
    "import pylab as pl\n",
    "import matplotlib.pyplot as plt\n",
    "\n",
    "from nltk.tokenize import WordPunctTokenizer\n",
    "#from bs4 import BeautifulSoup\n",
    "from wordcloud import WordCloud\n",
    "from sklearn.feature_extraction.text import TfidfVectorizer\n",
    "from sklearn.decomposition import PCA, TruncatedSVD\n",
    "\n",
    "from sklearn import metrics\n",
    "from mpl_toolkits.mplot3d import Axes3D\n",
    "\n",
    "from matplotlib import pyplot\n",
    "\n",
    "#plt.style.use('fivethirtyeight')\n",
    "%matplotlib inline\n",
    "%config InlineBackend.figure_format = 'retina'\n",
    "\n",
    "#!pip install vaderSentiment\n",
    "from vaderSentiment.vaderSentiment import SentimentIntensityAnalyzer\n",
    "\n",
    "analyser = SentimentIntensityAnalyzer()\n",
    "\n",
    "#!pip install datashader\n",
    "import datashader as ds\n",
    "import datashader.transfer_functions as tf\n"
   ]
  },
  {
   "cell_type": "code",
   "execution_count": 477,
   "metadata": {
    "colab": {
     "base_uri": "https://localhost:8080/",
     "height": 34
    },
    "colab_type": "code",
    "id": "e2s26pEC_eEH",
    "outputId": "7ccc2af1-7ac6-44c4-f0ab-46be7592d92f"
   },
   "outputs": [
    {
     "name": "stdout",
     "output_type": "stream",
     "text": [
      "                                              Tweets                   id  \\\n",
      "0  RT @VincentRK: Sputnik V vaccine recommended f...  1381682564436389894   \n",
      "1  RT @MalikAshok: The idea that the market can i...  1381681033041563652   \n",
      "2  RT @saahilmenghani: #Verified\\n\\n👉Good news fo...  1381681022912188417   \n",
      "3  RT @airnewsalerts: Expert panel of Central dru...  1381680892486119427   \n",
      "4  RT @swapneilparikh: Very important for the pos...  1381680346517757956   \n",
      "5  RT @saahilmenghani: #Verified\\n\\n👉Good news fo...  1381680054783074308   \n",
      "6  @Jaythirdattempt @therightside42 @Indian554960...  1381679946570010638   \n",
      "7  RT @CovidVaxVictims: I think this lady might t...  1381679794300026882   \n",
      "8  Experts clear Russia’s Sputnik Covid-19 vaccin...  1381679679631855616   \n",
      "9  @KhaniQ @mitchierulez @emilymshields It is. Th...  1381679570328424448   \n",
      "\n",
      "   len                date               source  likes  retweets  \n",
      "0  138 2021-04-12 18:56:08   Twitter for iPhone      0        17  \n",
      "1  140 2021-04-12 18:50:03   Twitter for iPhone      0       679  \n",
      "2  140 2021-04-12 18:50:00  Twitter for Android      0       201  \n",
      "3  138 2021-04-12 18:49:29  Twitter for Android      0        41  \n",
      "4  140 2021-04-12 18:47:19   Twitter for iPhone      0         1  \n",
      "5  140 2021-04-12 18:46:10      Twitter Web App      0       201  \n",
      "6  295 2021-04-12 18:45:44  Twitter for Android      0         0  \n",
      "7  140 2021-04-12 18:45:07  Twitter for Android      0         1  \n",
      "8  302 2021-04-12 18:44:40  Twitter for Android      0         0  \n",
      "9   78 2021-04-12 18:44:14  Twitter for Android      0         0  \n"
     ]
    }
   ],
   "source": [
    "from tweepy import API\n",
    "from tweepy import Cursor\n",
    "from tweepy.streaming import StreamListener\n",
    "from tweepy import OAuthHandler\n",
    "from tweepy import Stream\n",
    "\n",
    "\n",
    "import tweepy\n",
    "\n",
    "\n",
    "import twitter_credentials\n",
    "import numpy as np\n",
    "import pandas as pd\n",
    "\n",
    "\n",
    "class TwitterClient():\n",
    "    def __init__(self, twitter_user=None):\n",
    "        self.auth = TwitterAuthenticator().authenticate_twitter_app()\n",
    "        self.twitter_client = API(self.auth)\n",
    "\n",
    "        self.twitter_user = twitter_user\n",
    "\n",
    "    def get_twitter_client_api(self):\n",
    "        return self.twitter_client\n",
    "\n",
    "    \n",
    "class TwitterAuthenticator():\n",
    "\n",
    "    def authenticate_twitter_app(self):\n",
    "        auth = OAuthHandler(twitter_credentials.CONSUMER_KEY, twitter_credentials.CONSUMER_SECRET)\n",
    "        auth.set_access_token(twitter_credentials.ACCESS_TOKEN, twitter_credentials.ACCESS_TOKEN_SECRET)\n",
    "        return auth\n",
    "\n",
    "\n",
    "class TwitterStreamer():\n",
    "\n",
    "    def __init__(self):\n",
    "        self.twitter_autenticator = TwitterAuthenticator()\n",
    "\n",
    "    def stream_tweets(self, hash_tag_list):\n",
    "\n",
    "        listener = TwitterListener()\n",
    "        auth = self.twitter_autenticator.authenticate_twitter_app()\n",
    "        stream = Stream(auth, listener)\n",
    "\n",
    "\n",
    "        stream.filter(track=hash_tag_list)\n",
    "\n",
    "class TweetAnalyzer():\n",
    "\n",
    "    def tweets_to_data_frame(self, tweets):\n",
    "        #for tweet in tweets:\n",
    "            #print(tweet.full_text)\n",
    "\n",
    "        df = pd.DataFrame(data=[tweet.full_text for tweet in tweets], columns=['Tweets'])\n",
    "\n",
    "        df['id'] = np.array([tweet.id for tweet in tweets])\n",
    "        df['len'] = np.array([len(tweet.full_text) for tweet in tweets])\n",
    "        df['date'] = np.array([tweet.created_at for tweet in tweets])\n",
    "        df['source'] = np.array([tweet.source for tweet in tweets])\n",
    "        df['likes'] = np.array([tweet.favorite_count for tweet in tweets])\n",
    "        df['retweets'] = np.array([tweet.retweet_count for tweet in tweets])\n",
    "\n",
    "        return df\n",
    "\n",
    "if __name__ == '__main__':\n",
    "\n",
    "    twitter_client = TwitterClient()\n",
    "    tweet_analyzer = TweetAnalyzer()\n",
    "\n",
    "    api = twitter_client.get_twitter_client_api()\n",
    "\n",
    "    tweets = tweepy.Cursor(api.search, q=['Covishield','Covaxin'], lang=\"en\",\n",
    "                           tweet_mode='extended').items(1500)\n",
    "    list_tweets = [tweet for tweet in tweets]\n",
    "\n",
    "    #print(dir(tweets[0]))\n",
    "    #print(tweets[0].retweet_count)\n",
    "\n",
    "    df = tweet_analyzer.tweets_to_data_frame(list_tweets)\n",
    "\n",
    "    print(df.head(10))\n",
    "    #print(df['Tweets'])\n"
   ]
  },
  {
   "cell_type": "code",
   "execution_count": 478,
   "metadata": {
    "colab": {
     "base_uri": "https://localhost:8080/",
     "height": 111
    },
    "colab_type": "code",
    "id": "fvnZ3vZC-Kvo",
    "outputId": "331279df-1dcf-491a-d7d5-cec3dfb4abae"
   },
   "outputs": [
    {
     "data": {
      "text/html": [
       "<div>\n",
       "<style scoped>\n",
       "    .dataframe tbody tr th:only-of-type {\n",
       "        vertical-align: middle;\n",
       "    }\n",
       "\n",
       "    .dataframe tbody tr th {\n",
       "        vertical-align: top;\n",
       "    }\n",
       "\n",
       "    .dataframe thead th {\n",
       "        text-align: right;\n",
       "    }\n",
       "</style>\n",
       "<table border=\"1\" class=\"dataframe\">\n",
       "  <thead>\n",
       "    <tr style=\"text-align: right;\">\n",
       "      <th></th>\n",
       "      <th>Tweets</th>\n",
       "      <th>id</th>\n",
       "      <th>len</th>\n",
       "      <th>date</th>\n",
       "      <th>source</th>\n",
       "      <th>likes</th>\n",
       "      <th>retweets</th>\n",
       "    </tr>\n",
       "  </thead>\n",
       "  <tbody>\n",
       "    <tr>\n",
       "      <th>0</th>\n",
       "      <td>RT @VincentRK: Sputnik V vaccine recommended f...</td>\n",
       "      <td>1381682564436389894</td>\n",
       "      <td>138</td>\n",
       "      <td>2021-04-12 18:56:08</td>\n",
       "      <td>Twitter for iPhone</td>\n",
       "      <td>0</td>\n",
       "      <td>17</td>\n",
       "    </tr>\n",
       "    <tr>\n",
       "      <th>1</th>\n",
       "      <td>RT @MalikAshok: The idea that the market can i...</td>\n",
       "      <td>1381681033041563652</td>\n",
       "      <td>140</td>\n",
       "      <td>2021-04-12 18:50:03</td>\n",
       "      <td>Twitter for iPhone</td>\n",
       "      <td>0</td>\n",
       "      <td>679</td>\n",
       "    </tr>\n",
       "  </tbody>\n",
       "</table>\n",
       "</div>"
      ],
      "text/plain": [
       "                                              Tweets                   id  \\\n",
       "0  RT @VincentRK: Sputnik V vaccine recommended f...  1381682564436389894   \n",
       "1  RT @MalikAshok: The idea that the market can i...  1381681033041563652   \n",
       "\n",
       "   len                date              source  likes  retweets  \n",
       "0  138 2021-04-12 18:56:08  Twitter for iPhone      0        17  \n",
       "1  140 2021-04-12 18:50:03  Twitter for iPhone      0       679  "
      ]
     },
     "execution_count": 478,
     "metadata": {},
     "output_type": "execute_result"
    }
   ],
   "source": [
    "df.head(2)"
   ]
  },
  {
   "cell_type": "code",
   "execution_count": 479,
   "metadata": {
    "colab": {
     "base_uri": "https://localhost:8080/",
     "height": 68
    },
    "colab_type": "code",
    "id": "ucNN0lVU-Kwa",
    "outputId": "41486990-45c9-42c1-f433-f54e6dbaa36a"
   },
   "outputs": [
    {
     "data": {
      "text/plain": [
       "1381547513442791427    1\n",
       "1381508788222525442    1\n",
       "Name: id, dtype: int64"
      ]
     },
     "execution_count": 479,
     "metadata": {},
     "output_type": "execute_result"
    }
   ],
   "source": [
    "# Number of users with multiple tweets\n",
    "\n",
    "df[\"id\"].value_counts(ascending=False).head(2)"
   ]
  },
  {
   "cell_type": "code",
   "execution_count": 480,
   "metadata": {
    "colab": {},
    "colab_type": "code",
    "id": "3ABNr5IJ_3jX"
   },
   "outputs": [],
   "source": [
    "def remove_pattern(input_txt, pattern):\n",
    "    r = re.findall(pattern, input_txt)\n",
    "    for i in r:\n",
    "        input_txt = re.sub(i, '', input_txt)\n",
    "        \n",
    "    return input_txt "
   ]
  },
  {
   "cell_type": "code",
   "execution_count": 481,
   "metadata": {
    "colab": {},
    "colab_type": "code",
    "id": "jklbyRaP_7On"
   },
   "outputs": [],
   "source": [
    "df['Clean_text'] = np.vectorize(remove_pattern)(df['Tweets'], \"@[\\w]*\")"
   ]
  },
  {
   "cell_type": "code",
   "execution_count": 482,
   "metadata": {
    "colab": {},
    "colab_type": "code",
    "id": "TDrT33zO_9XA"
   },
   "outputs": [
    {
     "name": "stderr",
     "output_type": "stream",
     "text": [
      "<ipython-input-482-46be3fd0461e>:2: FutureWarning: The default value of regex will change from True to False in a future version.\n",
      "  df['Clean_text'] = df['Clean_text'].str.replace(\"[^a-zA-Z#]\", \" \")\n"
     ]
    }
   ],
   "source": [
    "# remove special characters, numbers, punctuations\n",
    "df['Clean_text'] = df['Clean_text'].str.replace(\"[^a-zA-Z#]\", \" \")"
   ]
  },
  {
   "cell_type": "code",
   "execution_count": 483,
   "metadata": {
    "colab": {},
    "colab_type": "code",
    "id": "nvSMU9CH__eB"
   },
   "outputs": [],
   "source": [
    "df['Clean_text'] = df['Clean_text'].apply(lambda x: ' '.join([w for w in x.split() if len(w)>3]))"
   ]
  },
  {
   "cell_type": "code",
   "execution_count": 484,
   "metadata": {
    "colab": {},
    "colab_type": "code",
    "id": "gzhEpYGzABgM"
   },
   "outputs": [],
   "source": [
    "tokenized_tweet = df['Clean_text'].apply(lambda x: x.split())"
   ]
  },
  {
   "cell_type": "code",
   "execution_count": 485,
   "metadata": {
    "colab": {
     "base_uri": "https://localhost:8080/",
     "height": 119
    },
    "colab_type": "code",
    "id": "jHF3-R-oADgr",
    "outputId": "4742c1d7-71ac-4067-b1bc-b59db9d1b7c6"
   },
   "outputs": [
    {
     "data": {
      "text/plain": [
       "0    [sputnik, vaccin, recommend, approv, expert, c...\n",
       "1    [idea, that, market, import, pfizer, moderna, ...\n",
       "2    [#verifi, good, news, indian, citizen, india, ...\n",
       "3    [expert, panel, central, drug, regul, dcga, re...\n",
       "4    [veri, import, post, pandem, period, when, cov...\n",
       "Name: Clean_text, dtype: object"
      ]
     },
     "execution_count": 485,
     "metadata": {},
     "output_type": "execute_result"
    }
   ],
   "source": [
    "from nltk.stem.porter import *\n",
    "stemmer = PorterStemmer()\n",
    "\n",
    "tokenized_tweet = tokenized_tweet.apply(lambda x: [stemmer.stem(i) for i in x]) # stemming\n",
    "tokenized_tweet.head()"
   ]
  },
  {
   "cell_type": "code",
   "execution_count": 486,
   "metadata": {
    "colab": {},
    "colab_type": "code",
    "id": "J5NOvMNVAFxX"
   },
   "outputs": [],
   "source": [
    "for i in range(len(tokenized_tweet)):\n",
    "    tokenized_tweet[i] = ' '.join(tokenized_tweet[i])\n",
    "\n",
    "df['Clean_text'] = tokenized_tweet"
   ]
  },
  {
   "cell_type": "code",
   "execution_count": 487,
   "metadata": {
    "colab": {
     "base_uri": "https://localhost:8080/",
     "height": 1969
    },
    "colab_type": "code",
    "id": "8-9xLENb-Kx5",
    "outputId": "36a8e20b-2501-4624-ce24-ccb57f2ebabc"
   },
   "outputs": [
    {
     "data": {
      "text/html": [
       "<div>\n",
       "<style scoped>\n",
       "    .dataframe tbody tr th:only-of-type {\n",
       "        vertical-align: middle;\n",
       "    }\n",
       "\n",
       "    .dataframe tbody tr th {\n",
       "        vertical-align: top;\n",
       "    }\n",
       "\n",
       "    .dataframe thead th {\n",
       "        text-align: right;\n",
       "    }\n",
       "</style>\n",
       "<table border=\"1\" class=\"dataframe\">\n",
       "  <thead>\n",
       "    <tr style=\"text-align: right;\">\n",
       "      <th></th>\n",
       "      <th>Tweets</th>\n",
       "      <th>Clean_text</th>\n",
       "    </tr>\n",
       "  </thead>\n",
       "  <tbody>\n",
       "    <tr>\n",
       "      <th>0</th>\n",
       "      <td>RT @VincentRK: Sputnik V vaccine recommended f...</td>\n",
       "      <td>sputnik vaccin recommend approv expert committ...</td>\n",
       "    </tr>\n",
       "    <tr>\n",
       "      <th>1</th>\n",
       "      <td>RT @MalikAshok: The idea that the market can i...</td>\n",
       "      <td>idea that market import pfizer moderna rich th...</td>\n",
       "    </tr>\n",
       "    <tr>\n",
       "      <th>2</th>\n",
       "      <td>RT @saahilmenghani: #Verified\\n\\n👉Good news fo...</td>\n",
       "      <td>#verifi good news indian citizen india get vac...</td>\n",
       "    </tr>\n",
       "    <tr>\n",
       "      <th>3</th>\n",
       "      <td>RT @airnewsalerts: Expert panel of Central dru...</td>\n",
       "      <td>expert panel central drug regul dcga recommend...</td>\n",
       "    </tr>\n",
       "    <tr>\n",
       "      <th>4</th>\n",
       "      <td>RT @swapneilparikh: Very important for the pos...</td>\n",
       "      <td>veri import post pandem period when covid risk...</td>\n",
       "    </tr>\n",
       "    <tr>\n",
       "      <th>...</th>\n",
       "      <td>...</td>\n",
       "      <td>...</td>\n",
       "    </tr>\n",
       "    <tr>\n",
       "      <th>1495</th>\n",
       "      <td>RT @umasudhir: This is #JustTooCute ... #Keral...</td>\n",
       "      <td>thi #justtoocut #kerala govt video #promotingv...</td>\n",
       "    </tr>\n",
       "    <tr>\n",
       "      <th>1496</th>\n",
       "      <td>RT @FaheemYounus: Sinopharm, Covaxin, Sputnik,...</td>\n",
       "      <td>sinopharm covaxin sputnik covishield sinovac w...</td>\n",
       "    </tr>\n",
       "    <tr>\n",
       "      <th>1497</th>\n",
       "      <td>Vaccines approved:\\n\\nUSA\\n* #Pfizer \\n* #Mode...</td>\n",
       "      <td>vaccin approv #pfizer #moderna #johnsonandjohn...</td>\n",
       "    </tr>\n",
       "    <tr>\n",
       "      <th>1498</th>\n",
       "      <td>RT @FaheemYounus: Sinopharm, Covaxin, Sputnik,...</td>\n",
       "      <td>sinopharm covaxin sputnik covishield sinovac w...</td>\n",
       "    </tr>\n",
       "    <tr>\n",
       "      <th>1499</th>\n",
       "      <td>@Somya91810445 No loopholes. 4 weeks is for co...</td>\n",
       "      <td>loophol week covaxin week covishield</td>\n",
       "    </tr>\n",
       "  </tbody>\n",
       "</table>\n",
       "<p>1500 rows × 2 columns</p>\n",
       "</div>"
      ],
      "text/plain": [
       "                                                 Tweets  \\\n",
       "0     RT @VincentRK: Sputnik V vaccine recommended f...   \n",
       "1     RT @MalikAshok: The idea that the market can i...   \n",
       "2     RT @saahilmenghani: #Verified\\n\\n👉Good news fo...   \n",
       "3     RT @airnewsalerts: Expert panel of Central dru...   \n",
       "4     RT @swapneilparikh: Very important for the pos...   \n",
       "...                                                 ...   \n",
       "1495  RT @umasudhir: This is #JustTooCute ... #Keral...   \n",
       "1496  RT @FaheemYounus: Sinopharm, Covaxin, Sputnik,...   \n",
       "1497  Vaccines approved:\\n\\nUSA\\n* #Pfizer \\n* #Mode...   \n",
       "1498  RT @FaheemYounus: Sinopharm, Covaxin, Sputnik,...   \n",
       "1499  @Somya91810445 No loopholes. 4 weeks is for co...   \n",
       "\n",
       "                                             Clean_text  \n",
       "0     sputnik vaccin recommend approv expert committ...  \n",
       "1     idea that market import pfizer moderna rich th...  \n",
       "2     #verifi good news indian citizen india get vac...  \n",
       "3     expert panel central drug regul dcga recommend...  \n",
       "4     veri import post pandem period when covid risk...  \n",
       "...                                                 ...  \n",
       "1495  thi #justtoocut #kerala govt video #promotingv...  \n",
       "1496  sinopharm covaxin sputnik covishield sinovac w...  \n",
       "1497  vaccin approv #pfizer #moderna #johnsonandjohn...  \n",
       "1498  sinopharm covaxin sputnik covishield sinovac w...  \n",
       "1499               loophol week covaxin week covishield  \n",
       "\n",
       "[1500 rows x 2 columns]"
      ]
     },
     "execution_count": 487,
     "metadata": {},
     "output_type": "execute_result"
    }
   ],
   "source": [
    "df.loc[:,('Tweets','Clean_text')]"
   ]
  },
  {
   "cell_type": "code",
   "execution_count": 488,
   "metadata": {
    "colab": {
     "base_uri": "https://localhost:8080/",
     "height": 49
    },
    "colab_type": "code",
    "id": "tWPGvlW4Y8Vp",
    "outputId": "073d89de-59c7-4d9f-bc4a-e6d8de192a3c"
   },
   "outputs": [
    {
     "data": {
      "text/html": [
       "<div>\n",
       "<style scoped>\n",
       "    .dataframe tbody tr th:only-of-type {\n",
       "        vertical-align: middle;\n",
       "    }\n",
       "\n",
       "    .dataframe tbody tr th {\n",
       "        vertical-align: top;\n",
       "    }\n",
       "\n",
       "    .dataframe thead th {\n",
       "        text-align: right;\n",
       "    }\n",
       "</style>\n",
       "<table border=\"1\" class=\"dataframe\">\n",
       "  <thead>\n",
       "    <tr style=\"text-align: right;\">\n",
       "      <th></th>\n",
       "      <th>Tweets</th>\n",
       "      <th>id</th>\n",
       "      <th>len</th>\n",
       "      <th>date</th>\n",
       "      <th>source</th>\n",
       "      <th>likes</th>\n",
       "      <th>retweets</th>\n",
       "      <th>Clean_text</th>\n",
       "    </tr>\n",
       "  </thead>\n",
       "  <tbody>\n",
       "  </tbody>\n",
       "</table>\n",
       "</div>"
      ],
      "text/plain": [
       "Empty DataFrame\n",
       "Columns: [Tweets, id, len, date, source, likes, retweets, Clean_text]\n",
       "Index: []"
      ]
     },
     "execution_count": 488,
     "metadata": {},
     "output_type": "execute_result"
    }
   ],
   "source": [
    "df[df.Tweets.isnull()]\n"
   ]
  },
  {
   "cell_type": "code",
   "execution_count": 489,
   "metadata": {
    "colab": {
     "base_uri": "https://localhost:8080/",
     "height": 49
    },
    "colab_type": "code",
    "id": "KPPjE9kq-KyD",
    "outputId": "33056769-8736-48c6-b83e-408ff6c7ef24"
   },
   "outputs": [
    {
     "data": {
      "text/html": [
       "<div>\n",
       "<style scoped>\n",
       "    .dataframe tbody tr th:only-of-type {\n",
       "        vertical-align: middle;\n",
       "    }\n",
       "\n",
       "    .dataframe tbody tr th {\n",
       "        vertical-align: top;\n",
       "    }\n",
       "\n",
       "    .dataframe thead th {\n",
       "        text-align: right;\n",
       "    }\n",
       "</style>\n",
       "<table border=\"1\" class=\"dataframe\">\n",
       "  <thead>\n",
       "    <tr style=\"text-align: right;\">\n",
       "      <th></th>\n",
       "      <th>Tweets</th>\n",
       "      <th>id</th>\n",
       "      <th>len</th>\n",
       "      <th>date</th>\n",
       "      <th>source</th>\n",
       "      <th>likes</th>\n",
       "      <th>retweets</th>\n",
       "      <th>Clean_text</th>\n",
       "    </tr>\n",
       "  </thead>\n",
       "  <tbody>\n",
       "  </tbody>\n",
       "</table>\n",
       "</div>"
      ],
      "text/plain": [
       "Empty DataFrame\n",
       "Columns: [Tweets, id, len, date, source, likes, retweets, Clean_text]\n",
       "Index: []"
      ]
     },
     "execution_count": 489,
     "metadata": {},
     "output_type": "execute_result"
    }
   ],
   "source": [
    "df[df.Clean_text.isnull()]"
   ]
  },
  {
   "cell_type": "code",
   "execution_count": 490,
   "metadata": {
    "colab": {
     "base_uri": "https://localhost:8080/",
     "height": 68
    },
    "colab_type": "code",
    "id": "iJT21dCr6e9p",
    "outputId": "b412f174-b70b-4bc3-ecc4-818e45353776"
   },
   "outputs": [
    {
     "name": "stdout",
     "output_type": "stream",
     "text": [
      "574\n",
      "606\n",
      "1500\n"
     ]
    }
   ],
   "source": [
    "# Number of unique tweets\n",
    "unique_clean_text = df.Clean_text.unique()\n",
    "unique_full_text = df.Tweets.unique()\n",
    "print(len(unique_clean_text))\n",
    "print(len(unique_full_text))\n",
    "print(len(df))"
   ]
  },
  {
   "cell_type": "code",
   "execution_count": 491,
   "metadata": {
    "colab": {},
    "colab_type": "code",
    "id": "L_-YLlvh6ITs"
   },
   "outputs": [],
   "source": [
    "df.drop_duplicates(subset=['Clean_text'], keep = 'first',inplace= True)"
   ]
  },
  {
   "cell_type": "code",
   "execution_count": 492,
   "metadata": {
    "colab": {},
    "colab_type": "code",
    "id": "gtaKG-OL6TvW"
   },
   "outputs": [],
   "source": [
    "df.reset_index(drop=True,inplace=True)"
   ]
  },
  {
   "cell_type": "code",
   "execution_count": 493,
   "metadata": {
    "colab": {
     "base_uri": "https://localhost:8080/",
     "height": 289
    },
    "colab_type": "code",
    "id": "0b5vpshJ-KyN",
    "outputId": "0219d3c4-073e-40b8-d81d-8b76f5907645"
   },
   "outputs": [
    {
     "data": {
      "text/html": [
       "<div>\n",
       "<style scoped>\n",
       "    .dataframe tbody tr th:only-of-type {\n",
       "        vertical-align: middle;\n",
       "    }\n",
       "\n",
       "    .dataframe tbody tr th {\n",
       "        vertical-align: top;\n",
       "    }\n",
       "\n",
       "    .dataframe thead th {\n",
       "        text-align: right;\n",
       "    }\n",
       "</style>\n",
       "<table border=\"1\" class=\"dataframe\">\n",
       "  <thead>\n",
       "    <tr style=\"text-align: right;\">\n",
       "      <th></th>\n",
       "      <th>Tweets</th>\n",
       "      <th>id</th>\n",
       "      <th>len</th>\n",
       "      <th>date</th>\n",
       "      <th>source</th>\n",
       "      <th>likes</th>\n",
       "      <th>retweets</th>\n",
       "      <th>Clean_text</th>\n",
       "      <th>Clean_text_length</th>\n",
       "    </tr>\n",
       "  </thead>\n",
       "  <tbody>\n",
       "    <tr>\n",
       "      <th>0</th>\n",
       "      <td>RT @VincentRK: Sputnik V vaccine recommended f...</td>\n",
       "      <td>1381682564436389894</td>\n",
       "      <td>138</td>\n",
       "      <td>2021-04-12 18:56:08</td>\n",
       "      <td>Twitter for iPhone</td>\n",
       "      <td>0</td>\n",
       "      <td>17</td>\n",
       "      <td>sputnik vaccin recommend approv expert committ...</td>\n",
       "      <td>88</td>\n",
       "    </tr>\n",
       "    <tr>\n",
       "      <th>1</th>\n",
       "      <td>RT @MalikAshok: The idea that the market can i...</td>\n",
       "      <td>1381681033041563652</td>\n",
       "      <td>140</td>\n",
       "      <td>2021-04-12 18:50:03</td>\n",
       "      <td>Twitter for iPhone</td>\n",
       "      <td>0</td>\n",
       "      <td>679</td>\n",
       "      <td>idea that market import pfizer moderna rich th...</td>\n",
       "      <td>76</td>\n",
       "    </tr>\n",
       "    <tr>\n",
       "      <th>2</th>\n",
       "      <td>RT @saahilmenghani: #Verified\\n\\n👉Good news fo...</td>\n",
       "      <td>1381681022912188417</td>\n",
       "      <td>140</td>\n",
       "      <td>2021-04-12 18:50:00</td>\n",
       "      <td>Twitter for Android</td>\n",
       "      <td>0</td>\n",
       "      <td>201</td>\n",
       "      <td>#verifi good news indian citizen india get vac...</td>\n",
       "      <td>83</td>\n",
       "    </tr>\n",
       "    <tr>\n",
       "      <th>3</th>\n",
       "      <td>RT @airnewsalerts: Expert panel of Central dru...</td>\n",
       "      <td>1381680892486119427</td>\n",
       "      <td>138</td>\n",
       "      <td>2021-04-12 18:49:29</td>\n",
       "      <td>Twitter for Android</td>\n",
       "      <td>0</td>\n",
       "      <td>41</td>\n",
       "      <td>expert panel central drug regul dcga recommend...</td>\n",
       "      <td>86</td>\n",
       "    </tr>\n",
       "    <tr>\n",
       "      <th>4</th>\n",
       "      <td>RT @swapneilparikh: Very important for the pos...</td>\n",
       "      <td>1381680346517757956</td>\n",
       "      <td>140</td>\n",
       "      <td>2021-04-12 18:47:19</td>\n",
       "      <td>Twitter for iPhone</td>\n",
       "      <td>0</td>\n",
       "      <td>1</td>\n",
       "      <td>veri import post pandem period when covid risk...</td>\n",
       "      <td>89</td>\n",
       "    </tr>\n",
       "  </tbody>\n",
       "</table>\n",
       "</div>"
      ],
      "text/plain": [
       "                                              Tweets                   id  \\\n",
       "0  RT @VincentRK: Sputnik V vaccine recommended f...  1381682564436389894   \n",
       "1  RT @MalikAshok: The idea that the market can i...  1381681033041563652   \n",
       "2  RT @saahilmenghani: #Verified\\n\\n👉Good news fo...  1381681022912188417   \n",
       "3  RT @airnewsalerts: Expert panel of Central dru...  1381680892486119427   \n",
       "4  RT @swapneilparikh: Very important for the pos...  1381680346517757956   \n",
       "\n",
       "   len                date               source  likes  retweets  \\\n",
       "0  138 2021-04-12 18:56:08   Twitter for iPhone      0        17   \n",
       "1  140 2021-04-12 18:50:03   Twitter for iPhone      0       679   \n",
       "2  140 2021-04-12 18:50:00  Twitter for Android      0       201   \n",
       "3  138 2021-04-12 18:49:29  Twitter for Android      0        41   \n",
       "4  140 2021-04-12 18:47:19   Twitter for iPhone      0         1   \n",
       "\n",
       "                                          Clean_text  Clean_text_length  \n",
       "0  sputnik vaccin recommend approv expert committ...                 88  \n",
       "1  idea that market import pfizer moderna rich th...                 76  \n",
       "2  #verifi good news indian citizen india get vac...                 83  \n",
       "3  expert panel central drug regul dcga recommend...                 86  \n",
       "4  veri import post pandem period when covid risk...                 89  "
      ]
     },
     "execution_count": 493,
     "metadata": {},
     "output_type": "execute_result"
    }
   ],
   "source": [
    "df['Clean_text_length'] = df['Clean_text'].apply(len)\n",
    "df.head()"
   ]
  },
  {
   "cell_type": "code",
   "execution_count": 494,
   "metadata": {
    "colab": {},
    "colab_type": "code",
    "id": "3asGGnMm-Kzj"
   },
   "outputs": [],
   "source": [
    "from textblob import TextBlob"
   ]
  },
  {
   "cell_type": "code",
   "execution_count": 495,
   "metadata": {
    "colab": {
     "base_uri": "https://localhost:8080/",
     "height": 34
    },
    "colab_type": "code",
    "id": "m0a0qrXN-Kzp",
    "outputId": "27047abf-43bc-4240-aa2a-06287b5704ea"
   },
   "outputs": [
    {
     "data": {
      "text/plain": [
       "Sentiment(polarity=-0.007575757575757569, subjectivity=0.3595959595959595)"
      ]
     },
     "execution_count": 495,
     "metadata": {},
     "output_type": "execute_result"
    }
   ],
   "source": [
    "TextBlob('Covasheild seems to be useless as people are turning positive even after taking the first dose.').sentiment"
   ]
  },
  {
   "cell_type": "code",
   "execution_count": 496,
   "metadata": {
    "colab": {},
    "colab_type": "code",
    "id": "hVAy3rQF-Kzw"
   },
   "outputs": [],
   "source": [
    "c=TextBlob(\"Covasheild seems to be useless as people are turning positive even after taking the first dose.\")"
   ]
  },
  {
   "cell_type": "code",
   "execution_count": 497,
   "metadata": {
    "colab": {},
    "colab_type": "code",
    "id": "XGGm0t6O-Kz1"
   },
   "outputs": [],
   "source": [
    "def calculate_sentiment(Clean_text):\n",
    "    return TextBlob(Clean_text).sentiment"
   ]
  },
  {
   "cell_type": "code",
   "execution_count": 498,
   "metadata": {
    "colab": {},
    "colab_type": "code",
    "id": "lX2zZs8Ms-IJ"
   },
   "outputs": [],
   "source": [
    "def calculate_sentiment_analyser(Clean_text):    \n",
    "    return analyser.polarity_scores(Clean_text)"
   ]
  },
  {
   "cell_type": "code",
   "execution_count": 499,
   "metadata": {
    "colab": {
     "base_uri": "https://localhost:8080/",
     "height": 414
    },
    "colab_type": "code",
    "id": "egVircdv-Kz5",
    "outputId": "cf971217-9fe6-4579-9c2c-1bce68cd941a"
   },
   "outputs": [
    {
     "data": {
      "text/html": [
       "<div>\n",
       "<style scoped>\n",
       "    .dataframe tbody tr th:only-of-type {\n",
       "        vertical-align: middle;\n",
       "    }\n",
       "\n",
       "    .dataframe tbody tr th {\n",
       "        vertical-align: top;\n",
       "    }\n",
       "\n",
       "    .dataframe thead th {\n",
       "        text-align: right;\n",
       "    }\n",
       "</style>\n",
       "<table border=\"1\" class=\"dataframe\">\n",
       "  <thead>\n",
       "    <tr style=\"text-align: right;\">\n",
       "      <th></th>\n",
       "      <th>Tweets</th>\n",
       "      <th>id</th>\n",
       "      <th>len</th>\n",
       "      <th>date</th>\n",
       "      <th>source</th>\n",
       "      <th>likes</th>\n",
       "      <th>retweets</th>\n",
       "      <th>Clean_text</th>\n",
       "      <th>Clean_text_length</th>\n",
       "      <th>sentiment</th>\n",
       "      <th>sentiment_analyser</th>\n",
       "      <th>compound_score</th>\n",
       "      <th>compound_score_sentiment</th>\n",
       "    </tr>\n",
       "  </thead>\n",
       "  <tbody>\n",
       "    <tr>\n",
       "      <th>0</th>\n",
       "      <td>RT @VincentRK: Sputnik V vaccine recommended f...</td>\n",
       "      <td>1381682564436389894</td>\n",
       "      <td>138</td>\n",
       "      <td>2021-04-12 18:56:08</td>\n",
       "      <td>Twitter for iPhone</td>\n",
       "      <td>0</td>\n",
       "      <td>17</td>\n",
       "      <td>sputnik vaccin recommend approv expert committ...</td>\n",
       "      <td>88</td>\n",
       "      <td>(0.8, 0.75)</td>\n",
       "      <td>{'neg': 0.112, 'neu': 0.535, 'pos': 0.353, 'co...</td>\n",
       "      <td>0.6705</td>\n",
       "      <td>Positive</td>\n",
       "    </tr>\n",
       "    <tr>\n",
       "      <th>1</th>\n",
       "      <td>RT @MalikAshok: The idea that the market can i...</td>\n",
       "      <td>1381681033041563652</td>\n",
       "      <td>140</td>\n",
       "      <td>2021-04-12 18:50:03</td>\n",
       "      <td>Twitter for iPhone</td>\n",
       "      <td>0</td>\n",
       "      <td>679</td>\n",
       "      <td>idea that market import pfizer moderna rich th...</td>\n",
       "      <td>76</td>\n",
       "      <td>(-0.012500000000000011, 0.675)</td>\n",
       "      <td>{'neg': 0.186, 'neu': 0.599, 'pos': 0.216, 'co...</td>\n",
       "      <td>0.128</td>\n",
       "      <td>Positive</td>\n",
       "    </tr>\n",
       "    <tr>\n",
       "      <th>2</th>\n",
       "      <td>RT @saahilmenghani: #Verified\\n\\n👉Good news fo...</td>\n",
       "      <td>1381681022912188417</td>\n",
       "      <td>140</td>\n",
       "      <td>2021-04-12 18:50:00</td>\n",
       "      <td>Twitter for Android</td>\n",
       "      <td>0</td>\n",
       "      <td>201</td>\n",
       "      <td>#verifi good news indian citizen india get vac...</td>\n",
       "      <td>83</td>\n",
       "      <td>(0.7, 0.6000000000000001)</td>\n",
       "      <td>{'neg': 0.0, 'neu': 0.805, 'pos': 0.195, 'comp...</td>\n",
       "      <td>0.4404</td>\n",
       "      <td>Positive</td>\n",
       "    </tr>\n",
       "    <tr>\n",
       "      <th>3</th>\n",
       "      <td>RT @airnewsalerts: Expert panel of Central dru...</td>\n",
       "      <td>1381680892486119427</td>\n",
       "      <td>138</td>\n",
       "      <td>2021-04-12 18:49:29</td>\n",
       "      <td>Twitter for Android</td>\n",
       "      <td>0</td>\n",
       "      <td>41</td>\n",
       "      <td>expert panel central drug regul dcga recommend...</td>\n",
       "      <td>86</td>\n",
       "      <td>(0.0, 0.125)</td>\n",
       "      <td>{'neg': 0.0, 'neu': 0.815, 'pos': 0.185, 'comp...</td>\n",
       "      <td>0.3612</td>\n",
       "      <td>Positive</td>\n",
       "    </tr>\n",
       "  </tbody>\n",
       "</table>\n",
       "</div>"
      ],
      "text/plain": [
       "                                              Tweets                   id  \\\n",
       "0  RT @VincentRK: Sputnik V vaccine recommended f...  1381682564436389894   \n",
       "1  RT @MalikAshok: The idea that the market can i...  1381681033041563652   \n",
       "2  RT @saahilmenghani: #Verified\\n\\n👉Good news fo...  1381681022912188417   \n",
       "3  RT @airnewsalerts: Expert panel of Central dru...  1381680892486119427   \n",
       "\n",
       "   len                date               source  likes  retweets  \\\n",
       "0  138 2021-04-12 18:56:08   Twitter for iPhone      0        17   \n",
       "1  140 2021-04-12 18:50:03   Twitter for iPhone      0       679   \n",
       "2  140 2021-04-12 18:50:00  Twitter for Android      0       201   \n",
       "3  138 2021-04-12 18:49:29  Twitter for Android      0        41   \n",
       "\n",
       "                                          Clean_text  Clean_text_length  \\\n",
       "0  sputnik vaccin recommend approv expert committ...                 88   \n",
       "1  idea that market import pfizer moderna rich th...                 76   \n",
       "2  #verifi good news indian citizen india get vac...                 83   \n",
       "3  expert panel central drug regul dcga recommend...                 86   \n",
       "\n",
       "                        sentiment  \\\n",
       "0                     (0.8, 0.75)   \n",
       "1  (-0.012500000000000011, 0.675)   \n",
       "2       (0.7, 0.6000000000000001)   \n",
       "3                    (0.0, 0.125)   \n",
       "\n",
       "                                  sentiment_analyser compound_score  \\\n",
       "0  {'neg': 0.112, 'neu': 0.535, 'pos': 0.353, 'co...         0.6705   \n",
       "1  {'neg': 0.186, 'neu': 0.599, 'pos': 0.216, 'co...          0.128   \n",
       "2  {'neg': 0.0, 'neu': 0.805, 'pos': 0.195, 'comp...         0.4404   \n",
       "3  {'neg': 0.0, 'neu': 0.815, 'pos': 0.185, 'comp...         0.3612   \n",
       "\n",
       "  compound_score_sentiment  \n",
       "0                 Positive  \n",
       "1                 Positive  \n",
       "2                 Positive  \n",
       "3                 Positive  "
      ]
     },
     "execution_count": 499,
     "metadata": {},
     "output_type": "execute_result"
    }
   ],
   "source": [
    "df['sentiment']=df.Clean_text.apply(calculate_sentiment)\n",
    "df['sentiment_analyser']=df.Clean_text.apply(calculate_sentiment_analyser)\n",
    "\n",
    "\n",
    "s = pd.DataFrame(index = range(0,len(df)),columns= ['compound_score','compound_score_sentiment'])\n",
    "\n",
    "for i in range(0,len(df)): \n",
    "  s['compound_score'][i] = df['sentiment_analyser'][i]['compound']\n",
    "  \n",
    "  if (df['sentiment_analyser'][i]['compound'] <= -0.05):\n",
    "    s['compound_score_sentiment'][i] = 'Negative'    \n",
    "  if (df['sentiment_analyser'][i]['compound'] >= 0.05):\n",
    "    s['compound_score_sentiment'][i] = 'Positive'\n",
    "  if ((df['sentiment_analyser'][i]['compound'] >= -0.05) & (df['sentiment_analyser'][i]['compound'] <= 0.05)):\n",
    "    s['compound_score_sentiment'][i] = 'Neutral'\n",
    "    \n",
    "df['compound_score'] = s['compound_score']\n",
    "df['compound_score_sentiment'] = s['compound_score_sentiment']\n",
    "df.head(4)\n"
   ]
  },
  {
   "cell_type": "code",
   "execution_count": 500,
   "metadata": {
    "colab": {
     "base_uri": "https://localhost:8080/",
     "height": 85
    },
    "colab_type": "code",
    "id": "xwD4326AGaxz",
    "outputId": "db216107-f794-4808-ac3f-f7c81ae37320"
   },
   "outputs": [
    {
     "data": {
      "text/plain": [
       "Neutral     308\n",
       "Positive    192\n",
       "Negative     74\n",
       "Name: compound_score_sentiment, dtype: int64"
      ]
     },
     "execution_count": 500,
     "metadata": {},
     "output_type": "execute_result"
    }
   ],
   "source": [
    "df.compound_score_sentiment.value_counts()\n"
   ]
  },
  {
   "cell_type": "code",
   "execution_count": 501,
   "metadata": {},
   "outputs": [
    {
     "name": "stdout",
     "output_type": "stream",
     "text": [
      "308 192 74\n"
     ]
    }
   ],
   "source": [
    "c0,d0,e0=df.compound_score_sentiment.value_counts()\n",
    "print(c0,d0,e0)"
   ]
  },
  {
   "cell_type": "code",
   "execution_count": 502,
   "metadata": {
    "colab": {
     "base_uri": "https://localhost:8080/",
     "height": 119
    },
    "colab_type": "code",
    "id": "6ze4_rLH8Psz",
    "outputId": "939b25d4-63b3-4d2c-db84-7faa3dcf03c2"
   },
   "outputs": [
    {
     "data": {
      "text/plain": [
       "0    sputnik vaccin recommend approv expert committ...\n",
       "1    idea that market import pfizer moderna rich th...\n",
       "2    #verifi good news indian citizen india get vac...\n",
       "3    expert panel central drug regul dcga recommend...\n",
       "4    veri import post pandem period when covid risk...\n",
       "Name: Clean_text, dtype: object"
      ]
     },
     "execution_count": 502,
     "metadata": {},
     "output_type": "execute_result"
    }
   ],
   "source": [
    "df['Clean_text'].head()"
   ]
  },
  {
   "cell_type": "code",
   "execution_count": 503,
   "metadata": {
    "colab": {},
    "colab_type": "code",
    "id": "HZsEfqK98Vr8"
   },
   "outputs": [],
   "source": [
    "#tf = TfidfVectorizer(analyzer='word', ngram_range=(1, 3), min_df=0, stop_words='english')\n",
    "from sklearn.feature_extraction.text import TfidfVectorizer, CountVectorizer\n",
    "# Considering 3 grams and mimnimum frq as 0\n",
    "tf_idf_vect = CountVectorizer(analyzer='word',ngram_range=(1,1),stop_words='english', min_df = 0.0001)\n",
    "tf_idf_vect.fit(df['Clean_text'])\n",
    "desc_matrix = tf_idf_vect.transform(df[\"Clean_text\"])\n"
   ]
  },
  {
   "cell_type": "code",
   "execution_count": 655,
   "metadata": {
    "colab": {},
    "colab_type": "code",
    "id": "H-di5w_Y8uol"
   },
   "outputs": [
    {
     "name": "stderr",
     "output_type": "stream",
     "text": [
      "C:\\Users\\Abhishek\\AppData\\Local\\Packages\\PythonSoftwareFoundation.Python.3.8_qbz5n2kfra8p0\\LocalCache\\local-packages\\Python38\\site-packages\\sklearn\\cluster\\_kmeans.py:792: FutureWarning: 'n_jobs' was deprecated in version 0.23 and will be removed in 1.0 (renaming of 0.25).\n",
      "  warnings.warn(\"'n_jobs' was deprecated in version 0.23 and will be\"\n"
     ]
    }
   ],
   "source": [
    "# implement kmeans\n",
    "\n",
    "from sklearn.cluster import KMeans\n",
    "num_clusters = 3\n",
    "km = KMeans(n_clusters=num_clusters,algorithm='auto', copy_x=True, init='random', #max_iter=600,\n",
    "     #n_init=10, n_jobs=1, precompute_distances='auto',\n",
    "    verbose=0, n_jobs=1 ,random_state=None) #tol=0.0001, verbose=0)\n",
    "km.fit(desc_matrix)\n",
    "clusters = km.labels_.tolist()"
   ]
  },
  {
   "cell_type": "code",
   "execution_count": 656,
   "metadata": {
    "colab": {
     "base_uri": "https://localhost:8080/",
     "height": 1969
    },
    "colab_type": "code",
    "id": "qgaORMm0893R",
    "outputId": "f3611caf-44a3-4fb3-bd7a-ec822773cfca"
   },
   "outputs": [
    {
     "data": {
      "text/html": [
       "<div>\n",
       "<style scoped>\n",
       "    .dataframe tbody tr th:only-of-type {\n",
       "        vertical-align: middle;\n",
       "    }\n",
       "\n",
       "    .dataframe tbody tr th {\n",
       "        vertical-align: top;\n",
       "    }\n",
       "\n",
       "    .dataframe thead th {\n",
       "        text-align: right;\n",
       "    }\n",
       "</style>\n",
       "<table border=\"1\" class=\"dataframe\">\n",
       "  <thead>\n",
       "    <tr style=\"text-align: right;\">\n",
       "      <th></th>\n",
       "      <th>Tweet</th>\n",
       "      <th>Cluster</th>\n",
       "    </tr>\n",
       "  </thead>\n",
       "  <tbody>\n",
       "    <tr>\n",
       "      <th>0</th>\n",
       "      <td>sputnik vaccin recommend approv expert committ...</td>\n",
       "      <td>1</td>\n",
       "    </tr>\n",
       "    <tr>\n",
       "      <th>1</th>\n",
       "      <td>idea that market import pfizer moderna rich th...</td>\n",
       "      <td>2</td>\n",
       "    </tr>\n",
       "    <tr>\n",
       "      <th>2</th>\n",
       "      <td>#verifi good news indian citizen india get vac...</td>\n",
       "      <td>0</td>\n",
       "    </tr>\n",
       "    <tr>\n",
       "      <th>3</th>\n",
       "      <td>expert panel central drug regul dcga recommend...</td>\n",
       "      <td>2</td>\n",
       "    </tr>\n",
       "    <tr>\n",
       "      <th>4</th>\n",
       "      <td>veri import post pandem period when covid risk...</td>\n",
       "      <td>2</td>\n",
       "    </tr>\n",
       "    <tr>\n",
       "      <th>...</th>\n",
       "      <td>...</td>\n",
       "      <td>...</td>\n",
       "    </tr>\n",
       "    <tr>\n",
       "      <th>569</th>\n",
       "      <td>ever wonder mani journalist some polit parti h...</td>\n",
       "      <td>0</td>\n",
       "    </tr>\n",
       "    <tr>\n",
       "      <th>570</th>\n",
       "      <td>ever wonder mani journalist some polit parti h...</td>\n",
       "      <td>2</td>\n",
       "    </tr>\n",
       "    <tr>\n",
       "      <th>571</th>\n",
       "      <td>compar sheet covishield covaxin http vyebsjqn</td>\n",
       "      <td>2</td>\n",
       "    </tr>\n",
       "    <tr>\n",
       "      <th>572</th>\n",
       "      <td>vaccin approv #pfizer #moderna #johnsonandjohn...</td>\n",
       "      <td>1</td>\n",
       "    </tr>\n",
       "    <tr>\n",
       "      <th>573</th>\n",
       "      <td>loophol week covaxin week covishield</td>\n",
       "      <td>2</td>\n",
       "    </tr>\n",
       "  </tbody>\n",
       "</table>\n",
       "<p>574 rows × 2 columns</p>\n",
       "</div>"
      ],
      "text/plain": [
       "                                                 Tweet  Cluster\n",
       "0    sputnik vaccin recommend approv expert committ...        1\n",
       "1    idea that market import pfizer moderna rich th...        2\n",
       "2    #verifi good news indian citizen india get vac...        0\n",
       "3    expert panel central drug regul dcga recommend...        2\n",
       "4    veri import post pandem period when covid risk...        2\n",
       "..                                                 ...      ...\n",
       "569  ever wonder mani journalist some polit parti h...        0\n",
       "570  ever wonder mani journalist some polit parti h...        2\n",
       "571      compar sheet covishield covaxin http vyebsjqn        2\n",
       "572  vaccin approv #pfizer #moderna #johnsonandjohn...        1\n",
       "573               loophol week covaxin week covishield        2\n",
       "\n",
       "[574 rows x 2 columns]"
      ]
     },
     "execution_count": 656,
     "metadata": {},
     "output_type": "execute_result"
    }
   ],
   "source": [
    "# create DataFrame films from all of the input files.\n",
    "tweets = {'Tweet': df[\"Clean_text\"].tolist(), 'Cluster': clusters}\n",
    "frame = pd.DataFrame(tweets)\n",
    "frame"
   ]
  },
  {
   "cell_type": "code",
   "execution_count": 657,
   "metadata": {
    "colab": {
     "base_uri": "https://localhost:8080/",
     "height": 85
    },
    "colab_type": "code",
    "id": "yyO98hs19E7q",
    "outputId": "05895d77-e9cc-447b-d11f-98b4f5f74b36"
   },
   "outputs": [
    {
     "data": {
      "text/plain": [
       "2    378\n",
       "1    126\n",
       "0     70\n",
       "Name: Cluster, dtype: int64"
      ]
     },
     "execution_count": 657,
     "metadata": {},
     "output_type": "execute_result"
    }
   ],
   "source": [
    "frame['Cluster'].value_counts()\n"
   ]
  },
  {
   "cell_type": "code",
   "execution_count": 658,
   "metadata": {},
   "outputs": [],
   "source": [
    "neu,pos,neg = frame['Cluster'].value_counts()"
   ]
  },
  {
   "cell_type": "code",
   "execution_count": 659,
   "metadata": {},
   "outputs": [
    {
     "name": "stdout",
     "output_type": "stream",
     "text": [
      "2 1 0\n"
     ]
    }
   ],
   "source": [
    "neutral_n,positive_n,negative_n = frame['Cluster'].value_counts().index\n",
    "print(neutral_n,positive_n,negative_n)"
   ]
  },
  {
   "cell_type": "code",
   "execution_count": 660,
   "metadata": {
    "colab": {
     "base_uri": "https://localhost:8080/",
     "height": 1969
    },
    "colab_type": "code",
    "id": "Ba_TeZgU_kP0",
    "outputId": "71bdd1e8-d719-4346-c07e-7ca99a804174"
   },
   "outputs": [
    {
     "data": {
      "text/html": [
       "<div>\n",
       "<style scoped>\n",
       "    .dataframe tbody tr th:only-of-type {\n",
       "        vertical-align: middle;\n",
       "    }\n",
       "\n",
       "    .dataframe tbody tr th {\n",
       "        vertical-align: top;\n",
       "    }\n",
       "\n",
       "    .dataframe thead th {\n",
       "        text-align: right;\n",
       "    }\n",
       "</style>\n",
       "<table border=\"1\" class=\"dataframe\">\n",
       "  <thead>\n",
       "    <tr style=\"text-align: right;\">\n",
       "      <th></th>\n",
       "      <th>Tweet</th>\n",
       "      <th>Cluster</th>\n",
       "    </tr>\n",
       "  </thead>\n",
       "  <tbody>\n",
       "    <tr>\n",
       "      <th>0</th>\n",
       "      <td>sputnik vaccin recommend approv expert committ...</td>\n",
       "      <td>1</td>\n",
       "    </tr>\n",
       "    <tr>\n",
       "      <th>7</th>\n",
       "      <td>expert clear russia sputnik covid vaccin india...</td>\n",
       "      <td>1</td>\n",
       "    </tr>\n",
       "    <tr>\n",
       "      <th>15</th>\n",
       "      <td>india more covid vaccin octob india current ma...</td>\n",
       "      <td>1</td>\n",
       "    </tr>\n",
       "    <tr>\n",
       "      <th>16</th>\n",
       "      <td>#sputnikv third vaccin approv india after covi...</td>\n",
       "      <td>1</td>\n",
       "    </tr>\n",
       "    <tr>\n",
       "      <th>31</th>\n",
       "      <td>russian vaccin sputnik approv emerg india thir...</td>\n",
       "      <td>1</td>\n",
       "    </tr>\n",
       "    <tr>\n",
       "      <th>...</th>\n",
       "      <td>...</td>\n",
       "      <td>...</td>\n",
       "    </tr>\n",
       "    <tr>\n",
       "      <th>472</th>\n",
       "      <td>fail understand obsess with covaxin covishield...</td>\n",
       "      <td>1</td>\n",
       "    </tr>\n",
       "    <tr>\n",
       "      <th>500</th>\n",
       "      <td>russia sputnik vaccin given approv indian regu...</td>\n",
       "      <td>1</td>\n",
       "    </tr>\n",
       "    <tr>\n",
       "      <th>553</th>\n",
       "      <td>thi begin global free economi anyon notic vacc...</td>\n",
       "      <td>1</td>\n",
       "    </tr>\n",
       "    <tr>\n",
       "      <th>557</th>\n",
       "      <td>#india case #coronaviru with death last hour #...</td>\n",
       "      <td>1</td>\n",
       "    </tr>\n",
       "    <tr>\n",
       "      <th>572</th>\n",
       "      <td>vaccin approv #pfizer #moderna #johnsonandjohn...</td>\n",
       "      <td>1</td>\n",
       "    </tr>\n",
       "  </tbody>\n",
       "</table>\n",
       "<p>126 rows × 2 columns</p>\n",
       "</div>"
      ],
      "text/plain": [
       "                                                 Tweet  Cluster\n",
       "0    sputnik vaccin recommend approv expert committ...        1\n",
       "7    expert clear russia sputnik covid vaccin india...        1\n",
       "15   india more covid vaccin octob india current ma...        1\n",
       "16   #sputnikv third vaccin approv india after covi...        1\n",
       "31   russian vaccin sputnik approv emerg india thir...        1\n",
       "..                                                 ...      ...\n",
       "472  fail understand obsess with covaxin covishield...        1\n",
       "500  russia sputnik vaccin given approv indian regu...        1\n",
       "553  thi begin global free economi anyon notic vacc...        1\n",
       "557  #india case #coronaviru with death last hour #...        1\n",
       "572  vaccin approv #pfizer #moderna #johnsonandjohn...        1\n",
       "\n",
       "[126 rows x 2 columns]"
      ]
     },
     "execution_count": 660,
     "metadata": {},
     "output_type": "execute_result"
    }
   ],
   "source": [
    "frame[frame['Cluster'] == 1]"
   ]
  },
  {
   "cell_type": "code",
   "execution_count": 661,
   "metadata": {
    "colab": {
     "base_uri": "https://localhost:8080/",
     "height": 1969
    },
    "colab_type": "code",
    "id": "o2of-of4_mFb",
    "outputId": "9635f8b5-e462-4978-b057-2c4e68aceab3"
   },
   "outputs": [
    {
     "data": {
      "text/html": [
       "<div>\n",
       "<style scoped>\n",
       "    .dataframe tbody tr th:only-of-type {\n",
       "        vertical-align: middle;\n",
       "    }\n",
       "\n",
       "    .dataframe tbody tr th {\n",
       "        vertical-align: top;\n",
       "    }\n",
       "\n",
       "    .dataframe thead th {\n",
       "        text-align: right;\n",
       "    }\n",
       "</style>\n",
       "<table border=\"1\" class=\"dataframe\">\n",
       "  <thead>\n",
       "    <tr style=\"text-align: right;\">\n",
       "      <th></th>\n",
       "      <th>Tweet</th>\n",
       "      <th>Cluster</th>\n",
       "    </tr>\n",
       "  </thead>\n",
       "  <tbody>\n",
       "    <tr>\n",
       "      <th>1</th>\n",
       "      <td>idea that market import pfizer moderna rich th...</td>\n",
       "      <td>2</td>\n",
       "    </tr>\n",
       "    <tr>\n",
       "      <th>3</th>\n",
       "      <td>expert panel central drug regul dcga recommend...</td>\n",
       "      <td>2</td>\n",
       "    </tr>\n",
       "    <tr>\n",
       "      <th>4</th>\n",
       "      <td>veri import post pandem period when covid risk...</td>\n",
       "      <td>2</td>\n",
       "    </tr>\n",
       "    <tr>\n",
       "      <th>5</th>\n",
       "      <td>good point jaya pfizer other high mainten vacc...</td>\n",
       "      <td>2</td>\n",
       "    </tr>\n",
       "    <tr>\n",
       "      <th>6</th>\n",
       "      <td>think thi ladi might tell differ have mani que...</td>\n",
       "      <td>2</td>\n",
       "    </tr>\n",
       "    <tr>\n",
       "      <th>...</th>\n",
       "      <td>...</td>\n",
       "      <td>...</td>\n",
       "    </tr>\n",
       "    <tr>\n",
       "      <th>567</th>\n",
       "      <td>covaxin effect know about covishield</td>\n",
       "      <td>2</td>\n",
       "    </tr>\n",
       "    <tr>\n",
       "      <th>568</th>\n",
       "      <td>case covaxin these peopl were like where phase...</td>\n",
       "      <td>2</td>\n",
       "    </tr>\n",
       "    <tr>\n",
       "      <th>570</th>\n",
       "      <td>ever wonder mani journalist some polit parti h...</td>\n",
       "      <td>2</td>\n",
       "    </tr>\n",
       "    <tr>\n",
       "      <th>571</th>\n",
       "      <td>compar sheet covishield covaxin http vyebsjqn</td>\n",
       "      <td>2</td>\n",
       "    </tr>\n",
       "    <tr>\n",
       "      <th>573</th>\n",
       "      <td>loophol week covaxin week covishield</td>\n",
       "      <td>2</td>\n",
       "    </tr>\n",
       "  </tbody>\n",
       "</table>\n",
       "<p>378 rows × 2 columns</p>\n",
       "</div>"
      ],
      "text/plain": [
       "                                                 Tweet  Cluster\n",
       "1    idea that market import pfizer moderna rich th...        2\n",
       "3    expert panel central drug regul dcga recommend...        2\n",
       "4    veri import post pandem period when covid risk...        2\n",
       "5    good point jaya pfizer other high mainten vacc...        2\n",
       "6    think thi ladi might tell differ have mani que...        2\n",
       "..                                                 ...      ...\n",
       "567               covaxin effect know about covishield        2\n",
       "568  case covaxin these peopl were like where phase...        2\n",
       "570  ever wonder mani journalist some polit parti h...        2\n",
       "571      compar sheet covishield covaxin http vyebsjqn        2\n",
       "573               loophol week covaxin week covishield        2\n",
       "\n",
       "[378 rows x 2 columns]"
      ]
     },
     "execution_count": 661,
     "metadata": {},
     "output_type": "execute_result"
    }
   ],
   "source": [
    "frame[frame['Cluster'] == 2]"
   ]
  },
  {
   "cell_type": "code",
   "execution_count": 662,
   "metadata": {},
   "outputs": [],
   "source": [
    "def calculate_sentiment(Tweet):\n",
    "    return TextBlob(Tweet).sentiment"
   ]
  },
  {
   "cell_type": "code",
   "execution_count": 663,
   "metadata": {},
   "outputs": [],
   "source": [
    "def calculate_sentiment_analyser(Tweet):    \n",
    "    return analyser.polarity_scores(Tweet)"
   ]
  },
  {
   "cell_type": "code",
   "execution_count": 664,
   "metadata": {},
   "outputs": [],
   "source": [
    "frame['sentiment']=frame.Tweet.apply(calculate_sentiment)\n",
    "frame['sentiment_analyser']=frame.Tweet.apply(calculate_sentiment_analyser)\n",
    "\n",
    "\n",
    "s = pd.DataFrame(index = range(0,len(frame)),columns= ['compound_score','compound_score_sentiment'])\n",
    "\n",
    "for i in range(0,len(frame)): \n",
    "  s['compound_score'][i] = frame['sentiment_analyser'][i]['compound']\n",
    "  \n",
    "  if (frame['sentiment_analyser'][i]['compound'] <= -0.05):\n",
    "    s['compound_score_sentiment'][i] = 'Negative'    \n",
    "  if (frame['sentiment_analyser'][i]['compound'] >= 0.05):\n",
    "    s['compound_score_sentiment'][i] = 'Positive'\n",
    "  if ((frame['sentiment_analyser'][i]['compound'] >= -0.05) & (frame['sentiment_analyser'][i]['compound'] <= 0.05)):\n",
    "    s['compound_score_sentiment'][i] = 'Neutral'\n",
    "    \n",
    "frame['compound_score'] = s['compound_score']\n",
    "frame['compound_score_sentiment'] = s['compound_score_sentiment']\n"
   ]
  },
  {
   "cell_type": "code",
   "execution_count": 665,
   "metadata": {},
   "outputs": [
    {
     "data": {
      "text/html": [
       "<div>\n",
       "<style scoped>\n",
       "    .dataframe tbody tr th:only-of-type {\n",
       "        vertical-align: middle;\n",
       "    }\n",
       "\n",
       "    .dataframe tbody tr th {\n",
       "        vertical-align: top;\n",
       "    }\n",
       "\n",
       "    .dataframe thead th {\n",
       "        text-align: right;\n",
       "    }\n",
       "</style>\n",
       "<table border=\"1\" class=\"dataframe\">\n",
       "  <thead>\n",
       "    <tr style=\"text-align: right;\">\n",
       "      <th></th>\n",
       "      <th>Tweet</th>\n",
       "      <th>Cluster</th>\n",
       "      <th>compound_score_sentiment</th>\n",
       "    </tr>\n",
       "  </thead>\n",
       "  <tbody>\n",
       "    <tr>\n",
       "      <th>0</th>\n",
       "      <td>sputnik vaccin recommend approv expert committ...</td>\n",
       "      <td>1</td>\n",
       "      <td>Positive</td>\n",
       "    </tr>\n",
       "    <tr>\n",
       "      <th>1</th>\n",
       "      <td>idea that market import pfizer moderna rich th...</td>\n",
       "      <td>2</td>\n",
       "      <td>Positive</td>\n",
       "    </tr>\n",
       "    <tr>\n",
       "      <th>2</th>\n",
       "      <td>#verifi good news indian citizen india get vac...</td>\n",
       "      <td>0</td>\n",
       "      <td>Positive</td>\n",
       "    </tr>\n",
       "    <tr>\n",
       "      <th>3</th>\n",
       "      <td>expert panel central drug regul dcga recommend...</td>\n",
       "      <td>2</td>\n",
       "      <td>Positive</td>\n",
       "    </tr>\n",
       "    <tr>\n",
       "      <th>4</th>\n",
       "      <td>veri import post pandem period when covid risk...</td>\n",
       "      <td>2</td>\n",
       "      <td>Negative</td>\n",
       "    </tr>\n",
       "  </tbody>\n",
       "</table>\n",
       "</div>"
      ],
      "text/plain": [
       "                                               Tweet  Cluster  \\\n",
       "0  sputnik vaccin recommend approv expert committ...        1   \n",
       "1  idea that market import pfizer moderna rich th...        2   \n",
       "2  #verifi good news indian citizen india get vac...        0   \n",
       "3  expert panel central drug regul dcga recommend...        2   \n",
       "4  veri import post pandem period when covid risk...        2   \n",
       "\n",
       "  compound_score_sentiment  \n",
       "0                 Positive  \n",
       "1                 Positive  \n",
       "2                 Positive  \n",
       "3                 Positive  \n",
       "4                 Negative  "
      ]
     },
     "execution_count": 665,
     "metadata": {},
     "output_type": "execute_result"
    }
   ],
   "source": [
    "#frame.drop(['sentiment', 'sentiment_analyser'], axis = 1)\n",
    "frame.drop(frame.columns[[2, 3, 4]], axis = 1, inplace = True)\n",
    "frame.head()"
   ]
  },
  {
   "cell_type": "code",
   "execution_count": 666,
   "metadata": {},
   "outputs": [
    {
     "name": "stdout",
     "output_type": "stream",
     "text": [
      "0.6233766233766234\n"
     ]
    }
   ],
   "source": [
    "c=0\n",
    "for i in range(0,len(frame)): \n",
    "    if frame['Cluster'][i]==neutral_n and frame['compound_score_sentiment'][i]=='Neutral':\n",
    "        c+=1\n",
    "ans_c=c/c0\n",
    "print(ans_c)"
   ]
  },
  {
   "cell_type": "code",
   "execution_count": 667,
   "metadata": {},
   "outputs": [
    {
     "name": "stdout",
     "output_type": "stream",
     "text": [
      "0.20833333333333334\n"
     ]
    }
   ],
   "source": [
    "d=0\n",
    "for i in range(0,len(frame)): \n",
    "    if frame['Cluster'][i]==positive_n and frame['compound_score_sentiment'][i]=='Positive':\n",
    "        d+=1\n",
    "ans_d=d/d0\n",
    "print(ans_d)"
   ]
  },
  {
   "cell_type": "code",
   "execution_count": 668,
   "metadata": {},
   "outputs": [
    {
     "name": "stdout",
     "output_type": "stream",
     "text": [
      "0.10810810810810811\n"
     ]
    }
   ],
   "source": [
    "e=0\n",
    "for i in range(0,len(frame)): \n",
    "    if frame['Cluster'][i]==negative_n and frame['compound_score_sentiment'][i]=='Negative':\n",
    "        e+=1\n",
    "    \n",
    "ans_e=e/e0\n",
    "print(ans_e)"
   ]
  },
  {
   "cell_type": "code",
   "execution_count": 672,
   "metadata": {},
   "outputs": [
    {
     "name": "stdout",
     "output_type": "stream",
     "text": [
      "0.5237727272727273\n"
     ]
    }
   ],
   "source": [
    "ans=(ans_c*neu+ans_d*pos)/(c0+d0)\n",
    "print(ans)"
   ]
  },
  {
   "cell_type": "code",
   "execution_count": 673,
   "metadata": {},
   "outputs": [
    {
     "data": {
      "image/png": "[encoded data removed]",
      "text/plain": [
       "<Figure size 720x504 with 1 Axes>"
      ]
     },
     "metadata": {
      "image/png": {
       "height": 407,
       "width": 488
      }
     },
     "output_type": "display_data"
    }
   ],
   "source": [
    "import numpy as np\n",
    "import matplotlib.pyplot as plt\n",
    "  \n",
    "  \n",
    "\n",
    "sentiment = ['Neutral', 'Positive', 'Negative']\n",
    "  \n",
    "data = [neu,pos,neg]\n",
    "  \n",
    "  \n",
    "\n",
    "explode = (0.1, 0.2, 0.3)\n",
    "  \n",
    "\n",
    "colors = ( \"orange\", \"cyan\", \"brown\",\n",
    "          \"grey\", \"indigo\", \"beige\")\n",
    "  \n",
    "\n",
    "wp = { 'linewidth' : 1, 'edgecolor' : \"green\" }\n",
    "  \n",
    "\n",
    "def func(pct, allvalues):\n",
    "    absolute = int(pct / 100.*np.sum(allvalues))\n",
    "    return \"{:.1f}%\\n({:d} g)\".format(pct, absolute)\n",
    "  \n",
    "# Creating plot\n",
    "fig, ax = plt.subplots(figsize =(10, 7))\n",
    "wedges, texts, autotexts = ax.pie(data, \n",
    "                                  autopct = lambda pct: func(pct, data),\n",
    "                                  explode = explode, \n",
    "                                  labels = sentiment,\n",
    "                                  shadow = True,\n",
    "                                  colors = colors,\n",
    "                                  startangle = 90,\n",
    "                                  wedgeprops = wp,\n",
    "                                  textprops = dict(color =\"magenta\"))\n",
    "  \n",
    "\n",
    "ax.legend(wedges, sentiment,\n",
    "          title =\"Sentiments\",\n",
    "          loc =\"center left\",\n",
    "          bbox_to_anchor =(1, 0, 0.5, 1))\n",
    "  \n",
    "plt.setp(autotexts, size = 8, weight =\"bold\")\n",
    "ax.set_title(\"\")\n",
    "  \n",
    "\n",
    "plt.show()"
   ]
  },
  {
   "cell_type": "code",
   "execution_count": null,
   "metadata": {},
   "outputs": [],
   "source": []
  }
 ],
 "metadata": {
  "accelerator": "GPU",
  "colab": {
   "collapsed_sections": [],
   "name": "Sentiment vaderSentiment.ipynb",
   "provenance": [],
   "version": "0.3.2"
  },
  "kernelspec": {
   "display_name": "Python 3",
   "language": "python",
   "name": "python3"
  },
  "language_info": {
   "codemirror_mode": {
    "name": "ipython",
    "version": 3
   },
   "file_extension": ".py",
   "mimetype": "text/x-python",
   "name": "python",
   "nbconvert_exporter": "python",
   "pygments_lexer": "ipython3",
   "version": "3.8.10"
  }
 },
 "nbformat": 4,
 "nbformat_minor": 1
}
